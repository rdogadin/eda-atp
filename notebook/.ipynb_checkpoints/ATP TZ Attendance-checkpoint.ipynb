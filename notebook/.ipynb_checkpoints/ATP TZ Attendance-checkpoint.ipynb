{
 "cells": [
  {
   "cell_type": "code",
   "execution_count": 1,
   "id": "0b2284df",
   "metadata": {},
   "outputs": [],
   "source": [
    "import pandas as pd\n",
    "import numpy as np\n",
    "import plotly.express as px\n",
    "import plotly.graph_objects as go\n",
    "import calendar\n",
    "from IPython.display import display, Markdown"
   ]
  },
  {
   "cell_type": "code",
   "execution_count": 2,
   "id": "90d82aac",
   "metadata": {},
   "outputs": [],
   "source": [
    "# set number of rows to display \n",
    "pd.set_option('display.max_rows',100)"
   ]
  },
  {
   "cell_type": "code",
   "execution_count": 3,
   "id": "6b2f1c17",
   "metadata": {},
   "outputs": [],
   "source": [
    "# import data\n",
    "df_raw = pd.read_csv(\"../data/atp_tennis.csv\",\n",
    "                     parse_dates=['Date'], # convert the date to datetime\n",
    "                     dtype={'Tournament':'string',\n",
    "                            'Series':'string',\n",
    "                            'Court':'string',\n",
    "                            'Surface':'string',\n",
    "                            'Round':'string',\n",
    "                            'Player_1':'string',\n",
    "                            'Player_2':'string',\n",
    "                            'Winner':'string',\n",
    "                            'Score':'string'\n",
    "                           }\n",
    "                    )"
   ]
  },
  {
   "cell_type": "code",
   "execution_count": 4,
   "id": "ee252308",
   "metadata": {},
   "outputs": [
    {
     "name": "stdout",
     "output_type": "stream",
     "text": [
      "<class 'pandas.core.frame.DataFrame'>\n",
      "RangeIndex: 60729 entries, 0 to 60728\n",
      "Data columns (total 17 columns):\n",
      " #   Column      Non-Null Count  Dtype         \n",
      "---  ------      --------------  -----         \n",
      " 0   Tournament  60729 non-null  string        \n",
      " 1   Date        60729 non-null  datetime64[ns]\n",
      " 2   Series      60729 non-null  string        \n",
      " 3   Court       60729 non-null  string        \n",
      " 4   Surface     60729 non-null  string        \n",
      " 5   Round       60729 non-null  string        \n",
      " 6   Best of     60729 non-null  int64         \n",
      " 7   Player_1    60729 non-null  string        \n",
      " 8   Player_2    60729 non-null  string        \n",
      " 9   Winner      60729 non-null  string        \n",
      " 10  Rank_1      60729 non-null  int64         \n",
      " 11  Rank_2      60729 non-null  int64         \n",
      " 12  Pts_1       60729 non-null  int64         \n",
      " 13  Pts_2       60729 non-null  int64         \n",
      " 14  Odd_1       60729 non-null  float64       \n",
      " 15  Odd_2       60729 non-null  float64       \n",
      " 16  Score       60729 non-null  string        \n",
      "dtypes: datetime64[ns](1), float64(2), int64(5), string(9)\n",
      "memory usage: 7.9 MB\n"
     ]
    }
   ],
   "source": [
    "df_raw.info()"
   ]
  },
  {
   "cell_type": "markdown",
   "id": "ae7d725b",
   "metadata": {},
   "source": [
    "### Data Preparation"
   ]
  },
  {
   "cell_type": "code",
   "execution_count": 5,
   "id": "e5b06cc4",
   "metadata": {},
   "outputs": [],
   "source": [
    "# create new columns by parsing the match date\n",
    "df_raw['Year'] = df_raw['Date'].dt.year\n",
    "df_raw['Month_Number'] = df_raw['Date'].dt.month\n",
    "df_raw['Day'] = df_raw['Date'].dt.day"
   ]
  },
  {
   "cell_type": "code",
   "execution_count": 6,
   "id": "a719dcd9",
   "metadata": {},
   "outputs": [],
   "source": [
    "# convert numeric months to names\n",
    "df_raw['Month'] = df_raw['Month_Number'].apply(lambda x:calendar.month_abbr[x])"
   ]
  },
  {
   "cell_type": "code",
   "execution_count": 7,
   "id": "af4330b5",
   "metadata": {},
   "outputs": [],
   "source": [
    "# create an empty Country column\n",
    "df_raw['Zone'] = np.nan\n",
    "\n",
    "# Australia\n",
    "df_raw.loc[df_raw['Tournament'].isin(['Adelaide International 1',\n",
    "                                      'Adelaide International 2',\n",
    "                                      'Melbourne Summer Set',\n",
    "                                      'Sydney Tennis Classic',\n",
    "                                      'Australian Open',\n",
    "                                      'ASB Classic',\n",
    "                                      'Murray River Open'\n",
    "                                      ]),'Zone'] = 'Australia'\n",
    "\n",
    "# South America\n",
    "df_raw.loc[df_raw['Tournament'].isin(['Argentina Open',\n",
    "                                      'Cordoba Open',\n",
    "                                      'Chile Open',\n",
    "                                      'Rio Open']),'Zone'] = 'South America'\n",
    "\n",
    "# US\n",
    "df_raw.loc[df_raw['Tournament'].isin(['Atlanta Open',\n",
    "                                      'Dallas Open',\n",
    "                                      'Delray Beach Open',\n",
    "                                      'Hall of Fame Championships',\n",
    "                                      'San Diego Open',\n",
    "                                      'U.S. Men\\'s Clay Court Championships',\n",
    "                                      'Winston-Salem Open at Wake Forest University',\n",
    "                                      'Citi Open',\n",
    "                                      'US Open',\n",
    "                                      'BNP Paribas Open',\n",
    "                                      'Miami Open',\n",
    "                                      'Western & Southern Financial Group Masters',\n",
    "                                      'BB&T Atlanta Open'\n",
    "                                      ])\n",
    "           ,'Zone'] = 'North America'\n",
    "# Europe\n",
    "df_raw.loc[df_raw['Tournament'].isin(['BMW Open',\n",
    "                                      'Croatia Open',\n",
    "                                      'Eastbourne International',\n",
    "                                      'Eastbourne International',\n",
    "                                      'European Open',\n",
    "                                      'Firenze Open',\n",
    "                                      'Generali Open',\n",
    "                                      'Geneva Open',\n",
    "                                      'Gijon Open',\n",
    "                                      'Lyon Open',\n",
    "                                      'Mallorca Championships',\n",
    "                                      'Mercedes Cup',\n",
    "                                      'Millennium Estoril Open',\n",
    "                                      'Napoli Cup',\n",
    "                                      'Nordea Open',\n",
    "                                      'Open 13',\n",
    "                                      'Open Sud de France',\n",
    "                                      'Open de Moselle',\n",
    "                                      'Rosmalen Grass Court Championships',\n",
    "                                      'Serbia Open',\n",
    "                                      'Sofia Open',\n",
    "                                      'Stockholm Open',\n",
    "                                      'Suisse Open Gstaad',\n",
    "                                      'ABN AMRO World Tennis Tournament',\n",
    "                                      'Barcelona Open',\n",
    "                                      'Halle Open',\n",
    "                                      'Queen\\'s Club Championships',\n",
    "                                      'Swiss Indoors',\n",
    "                                      'Vienna Open',\n",
    "                                      'French Open',\n",
    "                                      'Wimbledon',\n",
    "                                      'BNP Paribas Masters',\n",
    "                                      'Internazionali BNL d\\'Italia',\n",
    "                                      'Monte Carlo Masters',\n",
    "                                      'Mutua Madrid Open',\n",
    "                                      'Masters Cup',\n",
    "                                      'Srpska Open',\n",
    "                                      'bett1HULKS Championship',\n",
    "                                      'Viking International',\n",
    "                                      'AnyTech365 Andalucia Open',\n",
    "                                      'Belgrade Open',\n",
    "                                      'Kremlin Cup',\n",
    "                                      'St. Petersburg Open',\n",
    "                                      'Emilia-Romagna Open',\n",
    "                                      'Sardegna Open',\n",
    "                                      'Stuttgart Open'\n",
    "                                     ])\n",
    "           ,'Zone'] = 'Europe'\n",
    "\n",
    "# MENA\n",
    "df_raw.loc[df_raw['Tournament'].isin(['Grand Prix Hassan II',\n",
    "                                     'Qatar Exxon Mobil Open',\n",
    "                                     'Tel Aviv Open',\n",
    "                                     'Dubai Tennis Championships',\n",
    "                                     'Antalya Open'])\n",
    "           ,'Zone'] = 'Middle East'\n",
    "\n",
    "# Asia\n",
    "df_raw.loc[df_raw['Tournament'].isin(['Korea Open',\n",
    "                                     'Maharashtra Open',\n",
    "                                     'Rakuten Japan Open Tennis Championships',\n",
    "                                     'Singapore Open'])\n",
    "           ,'Zone'] = 'Asia'\n",
    "\n",
    "# Mexico\n",
    "df_raw.loc[df_raw['Tournament'].isin(['Los Cabos Open',\n",
    "                                      'Abierto Mexicano'])\n",
    "           ,'Zone'] = 'North America'\n",
    "# Kazakhstan\n",
    "df_raw.loc[df_raw['Tournament'].isin(['Astana Open'])\n",
    "           ,'Zone'] = 'Asia'\n",
    "\n",
    "# Canada\n",
    "df_raw.loc[df_raw['Tournament'].isin(['Canadian Open'])\n",
    "           ,'Zone'] = 'North America'"
   ]
  },
  {
   "cell_type": "code",
   "execution_count": 8,
   "id": "e60d302e",
   "metadata": {},
   "outputs": [],
   "source": [
    "df_raw_2022 = df_raw[df_raw['Year'] == 2022]"
   ]
  },
  {
   "cell_type": "markdown",
   "id": "8c43bb90",
   "metadata": {},
   "source": [
    "### Data Visualization"
   ]
  },
  {
   "cell_type": "code",
   "execution_count": 9,
   "id": "f68d3117",
   "metadata": {},
   "outputs": [],
   "source": [
    "# extract data for a given player\n",
    "df_player_2022 = df_raw_2022[(df_raw_2022['Player_1'] == 'Rune H.') | (df_raw_2022['Player_2'] == 'Rune H.')] \\\n",
    "[['Year','Month_Number','Month','Day','Zone','Tournament']].drop_duplicates()"
   ]
  },
  {
   "cell_type": "code",
   "execution_count": 10,
   "id": "cfb3fce7",
   "metadata": {},
   "outputs": [
    {
     "data": {
      "text/html": [
       "<div>\n",
       "<style scoped>\n",
       "    .dataframe tbody tr th:only-of-type {\n",
       "        vertical-align: middle;\n",
       "    }\n",
       "\n",
       "    .dataframe tbody tr th {\n",
       "        vertical-align: top;\n",
       "    }\n",
       "\n",
       "    .dataframe thead th {\n",
       "        text-align: right;\n",
       "    }\n",
       "</style>\n",
       "<table border=\"1\" class=\"dataframe\">\n",
       "  <thead>\n",
       "    <tr style=\"text-align: right;\">\n",
       "      <th></th>\n",
       "      <th>Year</th>\n",
       "      <th>Month_Number</th>\n",
       "      <th>Month</th>\n",
       "      <th>Day</th>\n",
       "      <th>Zone</th>\n",
       "      <th>Tournament</th>\n",
       "    </tr>\n",
       "  </thead>\n",
       "  <tbody>\n",
       "  </tbody>\n",
       "</table>\n",
       "</div>"
      ],
      "text/plain": [
       "Empty DataFrame\n",
       "Columns: [Year, Month_Number, Month, Day, Zone, Tournament]\n",
       "Index: []"
      ]
     },
     "execution_count": 10,
     "metadata": {},
     "output_type": "execute_result"
    }
   ],
   "source": [
    "# sanity check to make sure there are no unassigned countries\n",
    "df_player_2022[df_player_2022['Zone'].isna()]"
   ]
  },
  {
   "cell_type": "code",
   "execution_count": 11,
   "id": "e4e4e294",
   "metadata": {},
   "outputs": [
    {
     "data": {
      "text/html": [
       "<div>\n",
       "<style scoped>\n",
       "    .dataframe tbody tr th:only-of-type {\n",
       "        vertical-align: middle;\n",
       "    }\n",
       "\n",
       "    .dataframe tbody tr th {\n",
       "        vertical-align: top;\n",
       "    }\n",
       "\n",
       "    .dataframe thead th {\n",
       "        text-align: right;\n",
       "    }\n",
       "</style>\n",
       "<table border=\"1\" class=\"dataframe\">\n",
       "  <thead>\n",
       "    <tr style=\"text-align: right;\">\n",
       "      <th></th>\n",
       "      <th>Year</th>\n",
       "      <th>Month_Number</th>\n",
       "      <th>Month</th>\n",
       "      <th>Day</th>\n",
       "      <th>Zone</th>\n",
       "      <th>Tournament</th>\n",
       "    </tr>\n",
       "  </thead>\n",
       "  <tbody>\n",
       "    <tr>\n",
       "      <th>56414</th>\n",
       "      <td>2022</td>\n",
       "      <td>1</td>\n",
       "      <td>Jan</td>\n",
       "      <td>4</td>\n",
       "      <td>Australia</td>\n",
       "      <td>Adelaide International 1</td>\n",
       "    </tr>\n",
       "    <tr>\n",
       "      <th>56514</th>\n",
       "      <td>2022</td>\n",
       "      <td>1</td>\n",
       "      <td>Jan</td>\n",
       "      <td>17</td>\n",
       "      <td>Australia</td>\n",
       "      <td>Australian Open</td>\n",
       "    </tr>\n",
       "    <tr>\n",
       "      <th>56642</th>\n",
       "      <td>2022</td>\n",
       "      <td>2</td>\n",
       "      <td>Feb</td>\n",
       "      <td>1</td>\n",
       "      <td>South America</td>\n",
       "      <td>Cordoba Open</td>\n",
       "    </tr>\n",
       "    <tr>\n",
       "      <th>56725</th>\n",
       "      <td>2022</td>\n",
       "      <td>2</td>\n",
       "      <td>Feb</td>\n",
       "      <td>8</td>\n",
       "      <td>South America</td>\n",
       "      <td>Argentina Open</td>\n",
       "    </tr>\n",
       "    <tr>\n",
       "      <th>56859</th>\n",
       "      <td>2022</td>\n",
       "      <td>2</td>\n",
       "      <td>Feb</td>\n",
       "      <td>15</td>\n",
       "      <td>Europe</td>\n",
       "      <td>Open 13</td>\n",
       "    </tr>\n",
       "    <tr>\n",
       "      <th>56867</th>\n",
       "      <td>2022</td>\n",
       "      <td>2</td>\n",
       "      <td>Feb</td>\n",
       "      <td>16</td>\n",
       "      <td>Europe</td>\n",
       "      <td>Open 13</td>\n",
       "    </tr>\n",
       "    <tr>\n",
       "      <th>56978</th>\n",
       "      <td>2022</td>\n",
       "      <td>2</td>\n",
       "      <td>Feb</td>\n",
       "      <td>22</td>\n",
       "      <td>South America</td>\n",
       "      <td>Chile Open</td>\n",
       "    </tr>\n",
       "    <tr>\n",
       "      <th>57019</th>\n",
       "      <td>2022</td>\n",
       "      <td>3</td>\n",
       "      <td>Mar</td>\n",
       "      <td>12</td>\n",
       "      <td>North America</td>\n",
       "      <td>BNP Paribas Open</td>\n",
       "    </tr>\n",
       "    <tr>\n",
       "      <th>57052</th>\n",
       "      <td>2022</td>\n",
       "      <td>3</td>\n",
       "      <td>Mar</td>\n",
       "      <td>13</td>\n",
       "      <td>North America</td>\n",
       "      <td>BNP Paribas Open</td>\n",
       "    </tr>\n",
       "    <tr>\n",
       "      <th>57255</th>\n",
       "      <td>2022</td>\n",
       "      <td>4</td>\n",
       "      <td>Apr</td>\n",
       "      <td>12</td>\n",
       "      <td>Europe</td>\n",
       "      <td>Monte Carlo Masters</td>\n",
       "    </tr>\n",
       "    <tr>\n",
       "      <th>57265</th>\n",
       "      <td>2022</td>\n",
       "      <td>4</td>\n",
       "      <td>Apr</td>\n",
       "      <td>13</td>\n",
       "      <td>Europe</td>\n",
       "      <td>Monte Carlo Masters</td>\n",
       "    </tr>\n",
       "    <tr>\n",
       "      <th>57333</th>\n",
       "      <td>2022</td>\n",
       "      <td>4</td>\n",
       "      <td>Apr</td>\n",
       "      <td>18</td>\n",
       "      <td>Europe</td>\n",
       "      <td>Serbia Open</td>\n",
       "    </tr>\n",
       "    <tr>\n",
       "      <th>57350</th>\n",
       "      <td>2022</td>\n",
       "      <td>4</td>\n",
       "      <td>Apr</td>\n",
       "      <td>21</td>\n",
       "      <td>Europe</td>\n",
       "      <td>Serbia Open</td>\n",
       "    </tr>\n",
       "    <tr>\n",
       "      <th>57388</th>\n",
       "      <td>2022</td>\n",
       "      <td>4</td>\n",
       "      <td>Apr</td>\n",
       "      <td>25</td>\n",
       "      <td>Europe</td>\n",
       "      <td>BMW Open</td>\n",
       "    </tr>\n",
       "    <tr>\n",
       "      <th>57397</th>\n",
       "      <td>2022</td>\n",
       "      <td>4</td>\n",
       "      <td>Apr</td>\n",
       "      <td>27</td>\n",
       "      <td>Europe</td>\n",
       "      <td>BMW Open</td>\n",
       "    </tr>\n",
       "    <tr>\n",
       "      <th>57406</th>\n",
       "      <td>2022</td>\n",
       "      <td>4</td>\n",
       "      <td>Apr</td>\n",
       "      <td>29</td>\n",
       "      <td>Europe</td>\n",
       "      <td>BMW Open</td>\n",
       "    </tr>\n",
       "    <tr>\n",
       "      <th>57408</th>\n",
       "      <td>2022</td>\n",
       "      <td>4</td>\n",
       "      <td>Apr</td>\n",
       "      <td>30</td>\n",
       "      <td>Europe</td>\n",
       "      <td>BMW Open</td>\n",
       "    </tr>\n",
       "    <tr>\n",
       "      <th>57545</th>\n",
       "      <td>2022</td>\n",
       "      <td>5</td>\n",
       "      <td>May</td>\n",
       "      <td>15</td>\n",
       "      <td>Europe</td>\n",
       "      <td>Lyon Open</td>\n",
       "    </tr>\n",
       "    <tr>\n",
       "      <th>57561</th>\n",
       "      <td>2022</td>\n",
       "      <td>5</td>\n",
       "      <td>May</td>\n",
       "      <td>18</td>\n",
       "      <td>Europe</td>\n",
       "      <td>Lyon Open</td>\n",
       "    </tr>\n",
       "    <tr>\n",
       "      <th>57564</th>\n",
       "      <td>2022</td>\n",
       "      <td>5</td>\n",
       "      <td>May</td>\n",
       "      <td>19</td>\n",
       "      <td>Europe</td>\n",
       "      <td>Lyon Open</td>\n",
       "    </tr>\n",
       "    <tr>\n",
       "      <th>57567</th>\n",
       "      <td>2022</td>\n",
       "      <td>5</td>\n",
       "      <td>May</td>\n",
       "      <td>20</td>\n",
       "      <td>Europe</td>\n",
       "      <td>Lyon Open</td>\n",
       "    </tr>\n",
       "    <tr>\n",
       "      <th>57607</th>\n",
       "      <td>2022</td>\n",
       "      <td>5</td>\n",
       "      <td>May</td>\n",
       "      <td>24</td>\n",
       "      <td>Europe</td>\n",
       "      <td>French Open</td>\n",
       "    </tr>\n",
       "    <tr>\n",
       "      <th>57649</th>\n",
       "      <td>2022</td>\n",
       "      <td>5</td>\n",
       "      <td>May</td>\n",
       "      <td>26</td>\n",
       "      <td>Europe</td>\n",
       "      <td>French Open</td>\n",
       "    </tr>\n",
       "    <tr>\n",
       "      <th>57679</th>\n",
       "      <td>2022</td>\n",
       "      <td>5</td>\n",
       "      <td>May</td>\n",
       "      <td>28</td>\n",
       "      <td>Europe</td>\n",
       "      <td>French Open</td>\n",
       "    </tr>\n",
       "    <tr>\n",
       "      <th>57685</th>\n",
       "      <td>2022</td>\n",
       "      <td>5</td>\n",
       "      <td>May</td>\n",
       "      <td>30</td>\n",
       "      <td>Europe</td>\n",
       "      <td>French Open</td>\n",
       "    </tr>\n",
       "    <tr>\n",
       "      <th>57690</th>\n",
       "      <td>2022</td>\n",
       "      <td>6</td>\n",
       "      <td>Jun</td>\n",
       "      <td>1</td>\n",
       "      <td>Europe</td>\n",
       "      <td>French Open</td>\n",
       "    </tr>\n",
       "    <tr>\n",
       "      <th>57745</th>\n",
       "      <td>2022</td>\n",
       "      <td>6</td>\n",
       "      <td>Jun</td>\n",
       "      <td>13</td>\n",
       "      <td>Europe</td>\n",
       "      <td>Halle Open</td>\n",
       "    </tr>\n",
       "    <tr>\n",
       "      <th>57810</th>\n",
       "      <td>2022</td>\n",
       "      <td>6</td>\n",
       "      <td>Jun</td>\n",
       "      <td>21</td>\n",
       "      <td>Europe</td>\n",
       "      <td>Eastbourne International</td>\n",
       "    </tr>\n",
       "    <tr>\n",
       "      <th>57897</th>\n",
       "      <td>2022</td>\n",
       "      <td>6</td>\n",
       "      <td>Jun</td>\n",
       "      <td>28</td>\n",
       "      <td>Europe</td>\n",
       "      <td>Wimbledon</td>\n",
       "    </tr>\n",
       "    <tr>\n",
       "      <th>57986</th>\n",
       "      <td>2022</td>\n",
       "      <td>7</td>\n",
       "      <td>Jul</td>\n",
       "      <td>12</td>\n",
       "      <td>Europe</td>\n",
       "      <td>Nordea Open</td>\n",
       "    </tr>\n",
       "    <tr>\n",
       "      <th>58061</th>\n",
       "      <td>2022</td>\n",
       "      <td>7</td>\n",
       "      <td>Jul</td>\n",
       "      <td>19</td>\n",
       "      <td>Europe</td>\n",
       "      <td>European Open</td>\n",
       "    </tr>\n",
       "    <tr>\n",
       "      <th>58151</th>\n",
       "      <td>2022</td>\n",
       "      <td>7</td>\n",
       "      <td>Jul</td>\n",
       "      <td>27</td>\n",
       "      <td>Europe</td>\n",
       "      <td>Croatia Open</td>\n",
       "    </tr>\n",
       "    <tr>\n",
       "      <th>58209</th>\n",
       "      <td>2022</td>\n",
       "      <td>8</td>\n",
       "      <td>Aug</td>\n",
       "      <td>3</td>\n",
       "      <td>North America</td>\n",
       "      <td>Citi Open</td>\n",
       "    </tr>\n",
       "    <tr>\n",
       "      <th>58223</th>\n",
       "      <td>2022</td>\n",
       "      <td>8</td>\n",
       "      <td>Aug</td>\n",
       "      <td>5</td>\n",
       "      <td>North America</td>\n",
       "      <td>Citi Open</td>\n",
       "    </tr>\n",
       "    <tr>\n",
       "      <th>58250</th>\n",
       "      <td>2022</td>\n",
       "      <td>8</td>\n",
       "      <td>Aug</td>\n",
       "      <td>9</td>\n",
       "      <td>North America</td>\n",
       "      <td>Canadian Open</td>\n",
       "    </tr>\n",
       "    <tr>\n",
       "      <th>58263</th>\n",
       "      <td>2022</td>\n",
       "      <td>8</td>\n",
       "      <td>Aug</td>\n",
       "      <td>10</td>\n",
       "      <td>North America</td>\n",
       "      <td>Canadian Open</td>\n",
       "    </tr>\n",
       "    <tr>\n",
       "      <th>58296</th>\n",
       "      <td>2022</td>\n",
       "      <td>8</td>\n",
       "      <td>Aug</td>\n",
       "      <td>15</td>\n",
       "      <td>North America</td>\n",
       "      <td>Western &amp; Southern Financial Group Masters</td>\n",
       "    </tr>\n",
       "    <tr>\n",
       "      <th>58427</th>\n",
       "      <td>2022</td>\n",
       "      <td>8</td>\n",
       "      <td>Aug</td>\n",
       "      <td>30</td>\n",
       "      <td>North America</td>\n",
       "      <td>US Open</td>\n",
       "    </tr>\n",
       "    <tr>\n",
       "      <th>58485</th>\n",
       "      <td>2022</td>\n",
       "      <td>9</td>\n",
       "      <td>Sep</td>\n",
       "      <td>3</td>\n",
       "      <td>North America</td>\n",
       "      <td>US Open</td>\n",
       "    </tr>\n",
       "    <tr>\n",
       "      <th>58529</th>\n",
       "      <td>2022</td>\n",
       "      <td>9</td>\n",
       "      <td>Sep</td>\n",
       "      <td>23</td>\n",
       "      <td>Europe</td>\n",
       "      <td>Open de Moselle</td>\n",
       "    </tr>\n",
       "    <tr>\n",
       "      <th>58585</th>\n",
       "      <td>2022</td>\n",
       "      <td>9</td>\n",
       "      <td>Sep</td>\n",
       "      <td>27</td>\n",
       "      <td>Europe</td>\n",
       "      <td>Sofia Open</td>\n",
       "    </tr>\n",
       "    <tr>\n",
       "      <th>58598</th>\n",
       "      <td>2022</td>\n",
       "      <td>9</td>\n",
       "      <td>Sep</td>\n",
       "      <td>29</td>\n",
       "      <td>Europe</td>\n",
       "      <td>Sofia Open</td>\n",
       "    </tr>\n",
       "    <tr>\n",
       "      <th>58605</th>\n",
       "      <td>2022</td>\n",
       "      <td>9</td>\n",
       "      <td>Sep</td>\n",
       "      <td>30</td>\n",
       "      <td>Europe</td>\n",
       "      <td>Sofia Open</td>\n",
       "    </tr>\n",
       "    <tr>\n",
       "      <th>58607</th>\n",
       "      <td>2022</td>\n",
       "      <td>10</td>\n",
       "      <td>Oct</td>\n",
       "      <td>2</td>\n",
       "      <td>Europe</td>\n",
       "      <td>Sofia Open</td>\n",
       "    </tr>\n",
       "    <tr>\n",
       "      <th>58799</th>\n",
       "      <td>2022</td>\n",
       "      <td>10</td>\n",
       "      <td>Oct</td>\n",
       "      <td>17</td>\n",
       "      <td>Europe</td>\n",
       "      <td>Stockholm Open</td>\n",
       "    </tr>\n",
       "    <tr>\n",
       "      <th>58811</th>\n",
       "      <td>2022</td>\n",
       "      <td>10</td>\n",
       "      <td>Oct</td>\n",
       "      <td>19</td>\n",
       "      <td>Europe</td>\n",
       "      <td>Stockholm Open</td>\n",
       "    </tr>\n",
       "    <tr>\n",
       "      <th>58818</th>\n",
       "      <td>2022</td>\n",
       "      <td>10</td>\n",
       "      <td>Oct</td>\n",
       "      <td>21</td>\n",
       "      <td>Europe</td>\n",
       "      <td>Stockholm Open</td>\n",
       "    </tr>\n",
       "    <tr>\n",
       "      <th>58821</th>\n",
       "      <td>2022</td>\n",
       "      <td>10</td>\n",
       "      <td>Oct</td>\n",
       "      <td>22</td>\n",
       "      <td>Europe</td>\n",
       "      <td>Stockholm Open</td>\n",
       "    </tr>\n",
       "    <tr>\n",
       "      <th>58823</th>\n",
       "      <td>2022</td>\n",
       "      <td>10</td>\n",
       "      <td>Oct</td>\n",
       "      <td>23</td>\n",
       "      <td>Europe</td>\n",
       "      <td>Stockholm Open</td>\n",
       "    </tr>\n",
       "    <tr>\n",
       "      <th>58837</th>\n",
       "      <td>2022</td>\n",
       "      <td>10</td>\n",
       "      <td>Oct</td>\n",
       "      <td>26</td>\n",
       "      <td>Europe</td>\n",
       "      <td>Swiss Indoors</td>\n",
       "    </tr>\n",
       "    <tr>\n",
       "      <th>58847</th>\n",
       "      <td>2022</td>\n",
       "      <td>10</td>\n",
       "      <td>Oct</td>\n",
       "      <td>27</td>\n",
       "      <td>Europe</td>\n",
       "      <td>Swiss Indoors</td>\n",
       "    </tr>\n",
       "    <tr>\n",
       "      <th>58851</th>\n",
       "      <td>2022</td>\n",
       "      <td>10</td>\n",
       "      <td>Oct</td>\n",
       "      <td>28</td>\n",
       "      <td>Europe</td>\n",
       "      <td>Swiss Indoors</td>\n",
       "    </tr>\n",
       "    <tr>\n",
       "      <th>58853</th>\n",
       "      <td>2022</td>\n",
       "      <td>10</td>\n",
       "      <td>Oct</td>\n",
       "      <td>29</td>\n",
       "      <td>Europe</td>\n",
       "      <td>Swiss Indoors</td>\n",
       "    </tr>\n",
       "    <tr>\n",
       "      <th>58854</th>\n",
       "      <td>2022</td>\n",
       "      <td>10</td>\n",
       "      <td>Oct</td>\n",
       "      <td>30</td>\n",
       "      <td>Europe</td>\n",
       "      <td>Swiss Indoors</td>\n",
       "    </tr>\n",
       "    <tr>\n",
       "      <th>58909</th>\n",
       "      <td>2022</td>\n",
       "      <td>11</td>\n",
       "      <td>Nov</td>\n",
       "      <td>1</td>\n",
       "      <td>Europe</td>\n",
       "      <td>BNP Paribas Masters</td>\n",
       "    </tr>\n",
       "    <tr>\n",
       "      <th>58922</th>\n",
       "      <td>2022</td>\n",
       "      <td>11</td>\n",
       "      <td>Nov</td>\n",
       "      <td>2</td>\n",
       "      <td>Europe</td>\n",
       "      <td>BNP Paribas Masters</td>\n",
       "    </tr>\n",
       "    <tr>\n",
       "      <th>58929</th>\n",
       "      <td>2022</td>\n",
       "      <td>11</td>\n",
       "      <td>Nov</td>\n",
       "      <td>3</td>\n",
       "      <td>Europe</td>\n",
       "      <td>BNP Paribas Masters</td>\n",
       "    </tr>\n",
       "    <tr>\n",
       "      <th>58937</th>\n",
       "      <td>2022</td>\n",
       "      <td>11</td>\n",
       "      <td>Nov</td>\n",
       "      <td>5</td>\n",
       "      <td>Europe</td>\n",
       "      <td>BNP Paribas Masters</td>\n",
       "    </tr>\n",
       "    <tr>\n",
       "      <th>58939</th>\n",
       "      <td>2022</td>\n",
       "      <td>11</td>\n",
       "      <td>Nov</td>\n",
       "      <td>6</td>\n",
       "      <td>Europe</td>\n",
       "      <td>BNP Paribas Masters</td>\n",
       "    </tr>\n",
       "  </tbody>\n",
       "</table>\n",
       "</div>"
      ],
      "text/plain": [
       "       Year  Month_Number Month  Day           Zone  \\\n",
       "56414  2022             1   Jan    4      Australia   \n",
       "56514  2022             1   Jan   17      Australia   \n",
       "56642  2022             2   Feb    1  South America   \n",
       "56725  2022             2   Feb    8  South America   \n",
       "56859  2022             2   Feb   15         Europe   \n",
       "56867  2022             2   Feb   16         Europe   \n",
       "56978  2022             2   Feb   22  South America   \n",
       "57019  2022             3   Mar   12  North America   \n",
       "57052  2022             3   Mar   13  North America   \n",
       "57255  2022             4   Apr   12         Europe   \n",
       "57265  2022             4   Apr   13         Europe   \n",
       "57333  2022             4   Apr   18         Europe   \n",
       "57350  2022             4   Apr   21         Europe   \n",
       "57388  2022             4   Apr   25         Europe   \n",
       "57397  2022             4   Apr   27         Europe   \n",
       "57406  2022             4   Apr   29         Europe   \n",
       "57408  2022             4   Apr   30         Europe   \n",
       "57545  2022             5   May   15         Europe   \n",
       "57561  2022             5   May   18         Europe   \n",
       "57564  2022             5   May   19         Europe   \n",
       "57567  2022             5   May   20         Europe   \n",
       "57607  2022             5   May   24         Europe   \n",
       "57649  2022             5   May   26         Europe   \n",
       "57679  2022             5   May   28         Europe   \n",
       "57685  2022             5   May   30         Europe   \n",
       "57690  2022             6   Jun    1         Europe   \n",
       "57745  2022             6   Jun   13         Europe   \n",
       "57810  2022             6   Jun   21         Europe   \n",
       "57897  2022             6   Jun   28         Europe   \n",
       "57986  2022             7   Jul   12         Europe   \n",
       "58061  2022             7   Jul   19         Europe   \n",
       "58151  2022             7   Jul   27         Europe   \n",
       "58209  2022             8   Aug    3  North America   \n",
       "58223  2022             8   Aug    5  North America   \n",
       "58250  2022             8   Aug    9  North America   \n",
       "58263  2022             8   Aug   10  North America   \n",
       "58296  2022             8   Aug   15  North America   \n",
       "58427  2022             8   Aug   30  North America   \n",
       "58485  2022             9   Sep    3  North America   \n",
       "58529  2022             9   Sep   23         Europe   \n",
       "58585  2022             9   Sep   27         Europe   \n",
       "58598  2022             9   Sep   29         Europe   \n",
       "58605  2022             9   Sep   30         Europe   \n",
       "58607  2022            10   Oct    2         Europe   \n",
       "58799  2022            10   Oct   17         Europe   \n",
       "58811  2022            10   Oct   19         Europe   \n",
       "58818  2022            10   Oct   21         Europe   \n",
       "58821  2022            10   Oct   22         Europe   \n",
       "58823  2022            10   Oct   23         Europe   \n",
       "58837  2022            10   Oct   26         Europe   \n",
       "58847  2022            10   Oct   27         Europe   \n",
       "58851  2022            10   Oct   28         Europe   \n",
       "58853  2022            10   Oct   29         Europe   \n",
       "58854  2022            10   Oct   30         Europe   \n",
       "58909  2022            11   Nov    1         Europe   \n",
       "58922  2022            11   Nov    2         Europe   \n",
       "58929  2022            11   Nov    3         Europe   \n",
       "58937  2022            11   Nov    5         Europe   \n",
       "58939  2022            11   Nov    6         Europe   \n",
       "\n",
       "                                       Tournament  \n",
       "56414                    Adelaide International 1  \n",
       "56514                             Australian Open  \n",
       "56642                                Cordoba Open  \n",
       "56725                              Argentina Open  \n",
       "56859                                     Open 13  \n",
       "56867                                     Open 13  \n",
       "56978                                  Chile Open  \n",
       "57019                            BNP Paribas Open  \n",
       "57052                            BNP Paribas Open  \n",
       "57255                         Monte Carlo Masters  \n",
       "57265                         Monte Carlo Masters  \n",
       "57333                                 Serbia Open  \n",
       "57350                                 Serbia Open  \n",
       "57388                                    BMW Open  \n",
       "57397                                    BMW Open  \n",
       "57406                                    BMW Open  \n",
       "57408                                    BMW Open  \n",
       "57545                                   Lyon Open  \n",
       "57561                                   Lyon Open  \n",
       "57564                                   Lyon Open  \n",
       "57567                                   Lyon Open  \n",
       "57607                                 French Open  \n",
       "57649                                 French Open  \n",
       "57679                                 French Open  \n",
       "57685                                 French Open  \n",
       "57690                                 French Open  \n",
       "57745                                  Halle Open  \n",
       "57810                    Eastbourne International  \n",
       "57897                                   Wimbledon  \n",
       "57986                                 Nordea Open  \n",
       "58061                               European Open  \n",
       "58151                                Croatia Open  \n",
       "58209                                   Citi Open  \n",
       "58223                                   Citi Open  \n",
       "58250                               Canadian Open  \n",
       "58263                               Canadian Open  \n",
       "58296  Western & Southern Financial Group Masters  \n",
       "58427                                     US Open  \n",
       "58485                                     US Open  \n",
       "58529                             Open de Moselle  \n",
       "58585                                  Sofia Open  \n",
       "58598                                  Sofia Open  \n",
       "58605                                  Sofia Open  \n",
       "58607                                  Sofia Open  \n",
       "58799                              Stockholm Open  \n",
       "58811                              Stockholm Open  \n",
       "58818                              Stockholm Open  \n",
       "58821                              Stockholm Open  \n",
       "58823                              Stockholm Open  \n",
       "58837                               Swiss Indoors  \n",
       "58847                               Swiss Indoors  \n",
       "58851                               Swiss Indoors  \n",
       "58853                               Swiss Indoors  \n",
       "58854                               Swiss Indoors  \n",
       "58909                         BNP Paribas Masters  \n",
       "58922                         BNP Paribas Masters  \n",
       "58929                         BNP Paribas Masters  \n",
       "58937                         BNP Paribas Masters  \n",
       "58939                         BNP Paribas Masters  "
      ]
     },
     "execution_count": 11,
     "metadata": {},
     "output_type": "execute_result"
    }
   ],
   "source": [
    "df_player_2022"
   ]
  },
  {
   "cell_type": "code",
   "execution_count": 50,
   "id": "7ff85ff8",
   "metadata": {},
   "outputs": [],
   "source": [
    "# numerate rows based on a grouping and sorting. Similar to ROW_NUMBER()\n",
    "df_player_2022['RowNum'] = df_player_2022.sort_values(['Month_Number','Day'], ascending=[True,True]) \\\n",
    "             .groupby(['Tournament']) \\\n",
    "             .cumcount() + 1"
   ]
  },
  {
   "cell_type": "code",
   "execution_count": 52,
   "id": "2dad11da",
   "metadata": {},
   "outputs": [],
   "source": [
    "# drop rows for the same tournament\n",
    "df_player_2022.drop(df_player_2022[df_player_2022['RowNum'] > 1].index,inplace=True)"
   ]
  },
  {
   "cell_type": "code",
   "execution_count": 54,
   "id": "0b9ac753",
   "metadata": {},
   "outputs": [],
   "source": [
    "df_player_agg = df_player_2022[['Month_Number','Month','Zone']] \\\n",
    "    .groupby(['Month_Number','Month','Zone'])   \\\n",
    "    .value_counts().reset_index()              \\\n",
    "    .set_axis(['Month_Number','Month','Zone','Matches'], axis=1)"
   ]
  },
  {
   "cell_type": "code",
   "execution_count": 55,
   "id": "3dbb6f52",
   "metadata": {},
   "outputs": [
    {
     "data": {
      "text/html": [
       "<div>\n",
       "<style scoped>\n",
       "    .dataframe tbody tr th:only-of-type {\n",
       "        vertical-align: middle;\n",
       "    }\n",
       "\n",
       "    .dataframe tbody tr th {\n",
       "        vertical-align: top;\n",
       "    }\n",
       "\n",
       "    .dataframe thead th {\n",
       "        text-align: right;\n",
       "    }\n",
       "</style>\n",
       "<table border=\"1\" class=\"dataframe\">\n",
       "  <thead>\n",
       "    <tr style=\"text-align: right;\">\n",
       "      <th></th>\n",
       "      <th>Month_Number</th>\n",
       "      <th>Month</th>\n",
       "      <th>Zone</th>\n",
       "      <th>Matches</th>\n",
       "    </tr>\n",
       "  </thead>\n",
       "  <tbody>\n",
       "    <tr>\n",
       "      <th>0</th>\n",
       "      <td>1</td>\n",
       "      <td>Jan</td>\n",
       "      <td>Australia</td>\n",
       "      <td>2</td>\n",
       "    </tr>\n",
       "    <tr>\n",
       "      <th>1</th>\n",
       "      <td>2</td>\n",
       "      <td>Feb</td>\n",
       "      <td>Europe</td>\n",
       "      <td>1</td>\n",
       "    </tr>\n",
       "    <tr>\n",
       "      <th>2</th>\n",
       "      <td>2</td>\n",
       "      <td>Feb</td>\n",
       "      <td>South America</td>\n",
       "      <td>3</td>\n",
       "    </tr>\n",
       "    <tr>\n",
       "      <th>3</th>\n",
       "      <td>3</td>\n",
       "      <td>Mar</td>\n",
       "      <td>North America</td>\n",
       "      <td>1</td>\n",
       "    </tr>\n",
       "    <tr>\n",
       "      <th>4</th>\n",
       "      <td>4</td>\n",
       "      <td>Apr</td>\n",
       "      <td>Europe</td>\n",
       "      <td>3</td>\n",
       "    </tr>\n",
       "    <tr>\n",
       "      <th>5</th>\n",
       "      <td>5</td>\n",
       "      <td>May</td>\n",
       "      <td>Europe</td>\n",
       "      <td>2</td>\n",
       "    </tr>\n",
       "    <tr>\n",
       "      <th>6</th>\n",
       "      <td>6</td>\n",
       "      <td>Jun</td>\n",
       "      <td>Europe</td>\n",
       "      <td>3</td>\n",
       "    </tr>\n",
       "    <tr>\n",
       "      <th>7</th>\n",
       "      <td>7</td>\n",
       "      <td>Jul</td>\n",
       "      <td>Europe</td>\n",
       "      <td>3</td>\n",
       "    </tr>\n",
       "    <tr>\n",
       "      <th>8</th>\n",
       "      <td>8</td>\n",
       "      <td>Aug</td>\n",
       "      <td>North America</td>\n",
       "      <td>4</td>\n",
       "    </tr>\n",
       "    <tr>\n",
       "      <th>9</th>\n",
       "      <td>9</td>\n",
       "      <td>Sep</td>\n",
       "      <td>Europe</td>\n",
       "      <td>2</td>\n",
       "    </tr>\n",
       "    <tr>\n",
       "      <th>10</th>\n",
       "      <td>10</td>\n",
       "      <td>Oct</td>\n",
       "      <td>Europe</td>\n",
       "      <td>2</td>\n",
       "    </tr>\n",
       "    <tr>\n",
       "      <th>11</th>\n",
       "      <td>11</td>\n",
       "      <td>Nov</td>\n",
       "      <td>Europe</td>\n",
       "      <td>1</td>\n",
       "    </tr>\n",
       "  </tbody>\n",
       "</table>\n",
       "</div>"
      ],
      "text/plain": [
       "    Month_Number Month           Zone  Matches\n",
       "0              1   Jan      Australia        2\n",
       "1              2   Feb         Europe        1\n",
       "2              2   Feb  South America        3\n",
       "3              3   Mar  North America        1\n",
       "4              4   Apr         Europe        3\n",
       "5              5   May         Europe        2\n",
       "6              6   Jun         Europe        3\n",
       "7              7   Jul         Europe        3\n",
       "8              8   Aug  North America        4\n",
       "9              9   Sep         Europe        2\n",
       "10            10   Oct         Europe        2\n",
       "11            11   Nov         Europe        1"
      ]
     },
     "execution_count": 55,
     "metadata": {},
     "output_type": "execute_result"
    }
   ],
   "source": [
    "df_player_agg"
   ]
  },
  {
   "cell_type": "code",
   "execution_count": 64,
   "id": "89d9ed43",
   "metadata": {},
   "outputs": [
    {
     "data": {
      "text/plain": [
       "array([16,  8, 24,  8, 24, 16, 24, 24, 32, 16, 16,  8])"
      ]
     },
     "execution_count": 64,
     "metadata": {},
     "output_type": "execute_result"
    }
   ],
   "source": [
    "size = df_player_agg['Matches'].to_numpy()*8\n",
    "size"
   ]
  },
  {
   "cell_type": "code",
   "execution_count": 102,
   "id": "cc7407be",
   "metadata": {},
   "outputs": [
    {
     "data": {
      "application/vnd.plotly.v1+json": {
       "config": {
        "plotlyServerURL": "https://plot.ly"
       },
       "data": [
        {
         "marker": {
          "color": "#067bc2",
          "opacity": 1,
          "size": [
           16,
           8,
           24,
           8,
           24,
           16,
           24,
           24,
           32,
           16,
           16,
           8
          ]
         },
         "mode": "markers",
         "type": "scatter",
         "x": [
          "Jan",
          "Feb",
          "Feb",
          "Mar",
          "Apr",
          "May",
          "Jun",
          "Jul",
          "Aug",
          "Sep",
          "Oct",
          "Nov"
         ],
         "y": [
          "Australia",
          "Europe",
          "South America",
          "North America",
          "Europe",
          "Europe",
          "Europe",
          "Europe",
          "North America",
          "Europe",
          "Europe",
          "Europe"
         ]
        }
       ],
       "layout": {
        "annotations": [
         {
          "align": "left",
          "font": {
           "color": "#2f3061",
           "size": 18
          },
          "showarrow": false,
          "text": "Tennis players try to attend turnaments in adjacent time zones",
          "x": 0,
          "xref": "paper",
          "y": 1.2,
          "yref": "paper"
         },
         {
          "align": "left",
          "font": {
           "color": "#2f3061"
          },
          "showarrow": false,
          "text": "In 2022 Holger Rune spent most of the time in Europe and a few months in Americas",
          "x": 0,
          "xref": "paper",
          "y": 1.1,
          "yref": "paper"
         },
         {
          "align": "left",
          "font": {
           "color": "#2f3061"
          },
          "showarrow": false,
          "text": "11 tournaments in 4 months",
          "x": 0.45,
          "xref": "paper",
          "y": 0.45,
          "yref": "paper"
         },
         {
          "align": "left",
          "font": {
           "color": "#2f3061"
          },
          "showarrow": false,
          "text": "5 tournaments",
          "x": 0.91,
          "xref": "paper",
          "y": 0.45,
          "yref": "paper"
         },
         {
          "align": "left",
          "font": {
           "color": "#2f3061"
          },
          "showarrow": false,
          "text": "4 tournaments",
          "x": 0.73,
          "xref": "paper",
          "y": 0.85,
          "yref": "paper"
         },
         {
          "align": "left",
          "font": {
           "color": "#2f3061"
          },
          "showarrow": false,
          "text": "4 tournaments",
          "x": 0.13,
          "xref": "paper",
          "y": 0.8,
          "yref": "paper"
         }
        ],
        "font": {
         "family": "Outfit",
         "size": 13
        },
        "margin": {
         "t": 100
        },
        "plot_bgcolor": "#f8f9fa",
        "template": {
         "data": {
          "bar": [
           {
            "error_x": {
             "color": "#2a3f5f"
            },
            "error_y": {
             "color": "#2a3f5f"
            },
            "marker": {
             "line": {
              "color": "#E5ECF6",
              "width": 0.5
             },
             "pattern": {
              "fillmode": "overlay",
              "size": 10,
              "solidity": 0.2
             }
            },
            "type": "bar"
           }
          ],
          "barpolar": [
           {
            "marker": {
             "line": {
              "color": "#E5ECF6",
              "width": 0.5
             },
             "pattern": {
              "fillmode": "overlay",
              "size": 10,
              "solidity": 0.2
             }
            },
            "type": "barpolar"
           }
          ],
          "carpet": [
           {
            "aaxis": {
             "endlinecolor": "#2a3f5f",
             "gridcolor": "white",
             "linecolor": "white",
             "minorgridcolor": "white",
             "startlinecolor": "#2a3f5f"
            },
            "baxis": {
             "endlinecolor": "#2a3f5f",
             "gridcolor": "white",
             "linecolor": "white",
             "minorgridcolor": "white",
             "startlinecolor": "#2a3f5f"
            },
            "type": "carpet"
           }
          ],
          "choropleth": [
           {
            "colorbar": {
             "outlinewidth": 0,
             "ticks": ""
            },
            "type": "choropleth"
           }
          ],
          "contour": [
           {
            "colorbar": {
             "outlinewidth": 0,
             "ticks": ""
            },
            "colorscale": [
             [
              0,
              "#0d0887"
             ],
             [
              0.1111111111111111,
              "#46039f"
             ],
             [
              0.2222222222222222,
              "#7201a8"
             ],
             [
              0.3333333333333333,
              "#9c179e"
             ],
             [
              0.4444444444444444,
              "#bd3786"
             ],
             [
              0.5555555555555556,
              "#d8576b"
             ],
             [
              0.6666666666666666,
              "#ed7953"
             ],
             [
              0.7777777777777778,
              "#fb9f3a"
             ],
             [
              0.8888888888888888,
              "#fdca26"
             ],
             [
              1,
              "#f0f921"
             ]
            ],
            "type": "contour"
           }
          ],
          "contourcarpet": [
           {
            "colorbar": {
             "outlinewidth": 0,
             "ticks": ""
            },
            "type": "contourcarpet"
           }
          ],
          "heatmap": [
           {
            "colorbar": {
             "outlinewidth": 0,
             "ticks": ""
            },
            "colorscale": [
             [
              0,
              "#0d0887"
             ],
             [
              0.1111111111111111,
              "#46039f"
             ],
             [
              0.2222222222222222,
              "#7201a8"
             ],
             [
              0.3333333333333333,
              "#9c179e"
             ],
             [
              0.4444444444444444,
              "#bd3786"
             ],
             [
              0.5555555555555556,
              "#d8576b"
             ],
             [
              0.6666666666666666,
              "#ed7953"
             ],
             [
              0.7777777777777778,
              "#fb9f3a"
             ],
             [
              0.8888888888888888,
              "#fdca26"
             ],
             [
              1,
              "#f0f921"
             ]
            ],
            "type": "heatmap"
           }
          ],
          "heatmapgl": [
           {
            "colorbar": {
             "outlinewidth": 0,
             "ticks": ""
            },
            "colorscale": [
             [
              0,
              "#0d0887"
             ],
             [
              0.1111111111111111,
              "#46039f"
             ],
             [
              0.2222222222222222,
              "#7201a8"
             ],
             [
              0.3333333333333333,
              "#9c179e"
             ],
             [
              0.4444444444444444,
              "#bd3786"
             ],
             [
              0.5555555555555556,
              "#d8576b"
             ],
             [
              0.6666666666666666,
              "#ed7953"
             ],
             [
              0.7777777777777778,
              "#fb9f3a"
             ],
             [
              0.8888888888888888,
              "#fdca26"
             ],
             [
              1,
              "#f0f921"
             ]
            ],
            "type": "heatmapgl"
           }
          ],
          "histogram": [
           {
            "marker": {
             "pattern": {
              "fillmode": "overlay",
              "size": 10,
              "solidity": 0.2
             }
            },
            "type": "histogram"
           }
          ],
          "histogram2d": [
           {
            "colorbar": {
             "outlinewidth": 0,
             "ticks": ""
            },
            "colorscale": [
             [
              0,
              "#0d0887"
             ],
             [
              0.1111111111111111,
              "#46039f"
             ],
             [
              0.2222222222222222,
              "#7201a8"
             ],
             [
              0.3333333333333333,
              "#9c179e"
             ],
             [
              0.4444444444444444,
              "#bd3786"
             ],
             [
              0.5555555555555556,
              "#d8576b"
             ],
             [
              0.6666666666666666,
              "#ed7953"
             ],
             [
              0.7777777777777778,
              "#fb9f3a"
             ],
             [
              0.8888888888888888,
              "#fdca26"
             ],
             [
              1,
              "#f0f921"
             ]
            ],
            "type": "histogram2d"
           }
          ],
          "histogram2dcontour": [
           {
            "colorbar": {
             "outlinewidth": 0,
             "ticks": ""
            },
            "colorscale": [
             [
              0,
              "#0d0887"
             ],
             [
              0.1111111111111111,
              "#46039f"
             ],
             [
              0.2222222222222222,
              "#7201a8"
             ],
             [
              0.3333333333333333,
              "#9c179e"
             ],
             [
              0.4444444444444444,
              "#bd3786"
             ],
             [
              0.5555555555555556,
              "#d8576b"
             ],
             [
              0.6666666666666666,
              "#ed7953"
             ],
             [
              0.7777777777777778,
              "#fb9f3a"
             ],
             [
              0.8888888888888888,
              "#fdca26"
             ],
             [
              1,
              "#f0f921"
             ]
            ],
            "type": "histogram2dcontour"
           }
          ],
          "mesh3d": [
           {
            "colorbar": {
             "outlinewidth": 0,
             "ticks": ""
            },
            "type": "mesh3d"
           }
          ],
          "parcoords": [
           {
            "line": {
             "colorbar": {
              "outlinewidth": 0,
              "ticks": ""
             }
            },
            "type": "parcoords"
           }
          ],
          "pie": [
           {
            "automargin": true,
            "type": "pie"
           }
          ],
          "scatter": [
           {
            "fillpattern": {
             "fillmode": "overlay",
             "size": 10,
             "solidity": 0.2
            },
            "type": "scatter"
           }
          ],
          "scatter3d": [
           {
            "line": {
             "colorbar": {
              "outlinewidth": 0,
              "ticks": ""
             }
            },
            "marker": {
             "colorbar": {
              "outlinewidth": 0,
              "ticks": ""
             }
            },
            "type": "scatter3d"
           }
          ],
          "scattercarpet": [
           {
            "marker": {
             "colorbar": {
              "outlinewidth": 0,
              "ticks": ""
             }
            },
            "type": "scattercarpet"
           }
          ],
          "scattergeo": [
           {
            "marker": {
             "colorbar": {
              "outlinewidth": 0,
              "ticks": ""
             }
            },
            "type": "scattergeo"
           }
          ],
          "scattergl": [
           {
            "marker": {
             "colorbar": {
              "outlinewidth": 0,
              "ticks": ""
             }
            },
            "type": "scattergl"
           }
          ],
          "scattermapbox": [
           {
            "marker": {
             "colorbar": {
              "outlinewidth": 0,
              "ticks": ""
             }
            },
            "type": "scattermapbox"
           }
          ],
          "scatterpolar": [
           {
            "marker": {
             "colorbar": {
              "outlinewidth": 0,
              "ticks": ""
             }
            },
            "type": "scatterpolar"
           }
          ],
          "scatterpolargl": [
           {
            "marker": {
             "colorbar": {
              "outlinewidth": 0,
              "ticks": ""
             }
            },
            "type": "scatterpolargl"
           }
          ],
          "scatterternary": [
           {
            "marker": {
             "colorbar": {
              "outlinewidth": 0,
              "ticks": ""
             }
            },
            "type": "scatterternary"
           }
          ],
          "surface": [
           {
            "colorbar": {
             "outlinewidth": 0,
             "ticks": ""
            },
            "colorscale": [
             [
              0,
              "#0d0887"
             ],
             [
              0.1111111111111111,
              "#46039f"
             ],
             [
              0.2222222222222222,
              "#7201a8"
             ],
             [
              0.3333333333333333,
              "#9c179e"
             ],
             [
              0.4444444444444444,
              "#bd3786"
             ],
             [
              0.5555555555555556,
              "#d8576b"
             ],
             [
              0.6666666666666666,
              "#ed7953"
             ],
             [
              0.7777777777777778,
              "#fb9f3a"
             ],
             [
              0.8888888888888888,
              "#fdca26"
             ],
             [
              1,
              "#f0f921"
             ]
            ],
            "type": "surface"
           }
          ],
          "table": [
           {
            "cells": {
             "fill": {
              "color": "#EBF0F8"
             },
             "line": {
              "color": "white"
             }
            },
            "header": {
             "fill": {
              "color": "#C8D4E3"
             },
             "line": {
              "color": "white"
             }
            },
            "type": "table"
           }
          ]
         },
         "layout": {
          "annotationdefaults": {
           "arrowcolor": "#2a3f5f",
           "arrowhead": 0,
           "arrowwidth": 1
          },
          "autotypenumbers": "strict",
          "coloraxis": {
           "colorbar": {
            "outlinewidth": 0,
            "ticks": ""
           }
          },
          "colorscale": {
           "diverging": [
            [
             0,
             "#8e0152"
            ],
            [
             0.1,
             "#c51b7d"
            ],
            [
             0.2,
             "#de77ae"
            ],
            [
             0.3,
             "#f1b6da"
            ],
            [
             0.4,
             "#fde0ef"
            ],
            [
             0.5,
             "#f7f7f7"
            ],
            [
             0.6,
             "#e6f5d0"
            ],
            [
             0.7,
             "#b8e186"
            ],
            [
             0.8,
             "#7fbc41"
            ],
            [
             0.9,
             "#4d9221"
            ],
            [
             1,
             "#276419"
            ]
           ],
           "sequential": [
            [
             0,
             "#0d0887"
            ],
            [
             0.1111111111111111,
             "#46039f"
            ],
            [
             0.2222222222222222,
             "#7201a8"
            ],
            [
             0.3333333333333333,
             "#9c179e"
            ],
            [
             0.4444444444444444,
             "#bd3786"
            ],
            [
             0.5555555555555556,
             "#d8576b"
            ],
            [
             0.6666666666666666,
             "#ed7953"
            ],
            [
             0.7777777777777778,
             "#fb9f3a"
            ],
            [
             0.8888888888888888,
             "#fdca26"
            ],
            [
             1,
             "#f0f921"
            ]
           ],
           "sequentialminus": [
            [
             0,
             "#0d0887"
            ],
            [
             0.1111111111111111,
             "#46039f"
            ],
            [
             0.2222222222222222,
             "#7201a8"
            ],
            [
             0.3333333333333333,
             "#9c179e"
            ],
            [
             0.4444444444444444,
             "#bd3786"
            ],
            [
             0.5555555555555556,
             "#d8576b"
            ],
            [
             0.6666666666666666,
             "#ed7953"
            ],
            [
             0.7777777777777778,
             "#fb9f3a"
            ],
            [
             0.8888888888888888,
             "#fdca26"
            ],
            [
             1,
             "#f0f921"
            ]
           ]
          },
          "colorway": [
           "#636efa",
           "#EF553B",
           "#00cc96",
           "#ab63fa",
           "#FFA15A",
           "#19d3f3",
           "#FF6692",
           "#B6E880",
           "#FF97FF",
           "#FECB52"
          ],
          "font": {
           "color": "#2a3f5f"
          },
          "geo": {
           "bgcolor": "white",
           "lakecolor": "white",
           "landcolor": "#E5ECF6",
           "showlakes": true,
           "showland": true,
           "subunitcolor": "white"
          },
          "hoverlabel": {
           "align": "left"
          },
          "hovermode": "closest",
          "mapbox": {
           "style": "light"
          },
          "paper_bgcolor": "white",
          "plot_bgcolor": "#E5ECF6",
          "polar": {
           "angularaxis": {
            "gridcolor": "white",
            "linecolor": "white",
            "ticks": ""
           },
           "bgcolor": "#E5ECF6",
           "radialaxis": {
            "gridcolor": "white",
            "linecolor": "white",
            "ticks": ""
           }
          },
          "scene": {
           "xaxis": {
            "backgroundcolor": "#E5ECF6",
            "gridcolor": "white",
            "gridwidth": 2,
            "linecolor": "white",
            "showbackground": true,
            "ticks": "",
            "zerolinecolor": "white"
           },
           "yaxis": {
            "backgroundcolor": "#E5ECF6",
            "gridcolor": "white",
            "gridwidth": 2,
            "linecolor": "white",
            "showbackground": true,
            "ticks": "",
            "zerolinecolor": "white"
           },
           "zaxis": {
            "backgroundcolor": "#E5ECF6",
            "gridcolor": "white",
            "gridwidth": 2,
            "linecolor": "white",
            "showbackground": true,
            "ticks": "",
            "zerolinecolor": "white"
           }
          },
          "shapedefaults": {
           "line": {
            "color": "#2a3f5f"
           }
          },
          "ternary": {
           "aaxis": {
            "gridcolor": "white",
            "linecolor": "white",
            "ticks": ""
           },
           "baxis": {
            "gridcolor": "white",
            "linecolor": "white",
            "ticks": ""
           },
           "bgcolor": "#E5ECF6",
           "caxis": {
            "gridcolor": "white",
            "linecolor": "white",
            "ticks": ""
           }
          },
          "title": {
           "x": 0.05
          },
          "xaxis": {
           "automargin": true,
           "gridcolor": "white",
           "linecolor": "white",
           "ticks": "",
           "title": {
            "standoff": 15
           },
           "zerolinecolor": "white",
           "zerolinewidth": 2
          },
          "yaxis": {
           "automargin": true,
           "gridcolor": "white",
           "linecolor": "white",
           "ticks": "",
           "title": {
            "standoff": 15
           },
           "zerolinecolor": "white",
           "zerolinewidth": 2
          }
         }
        },
        "title": {
         "font": {
          "color": "#2f3061"
         }
        },
        "xaxis": {
         "color": "#2f3061",
         "linecolor": "#adb5bd",
         "showgrid": false,
         "tickcolor": "#adb5bd",
         "ticklen": 5,
         "ticks": "outside",
         "title": {}
        },
        "yaxis": {
         "anchor": "free",
         "color": "#2f3061",
         "gridcolor": "#e9ecef",
         "shift": -10,
         "title": {}
        }
       }
      },
      "text/html": [
       "<div>                            <div id=\"56c1bff9-4b31-4785-99e7-ac92ca9a4a05\" class=\"plotly-graph-div\" style=\"height:525px; width:100%;\"></div>            <script type=\"text/javascript\">                require([\"plotly\"], function(Plotly) {                    window.PLOTLYENV=window.PLOTLYENV || {};                                    if (document.getElementById(\"56c1bff9-4b31-4785-99e7-ac92ca9a4a05\")) {                    Plotly.newPlot(                        \"56c1bff9-4b31-4785-99e7-ac92ca9a4a05\",                        [{\"marker\":{\"color\":\"#067bc2\",\"opacity\":1,\"size\":[16,8,24,8,24,16,24,24,32,16,16,8]},\"mode\":\"markers\",\"x\":[\"Jan\",\"Feb\",\"Feb\",\"Mar\",\"Apr\",\"May\",\"Jun\",\"Jul\",\"Aug\",\"Sep\",\"Oct\",\"Nov\"],\"y\":[\"Australia\",\"Europe\",\"South America\",\"North America\",\"Europe\",\"Europe\",\"Europe\",\"Europe\",\"North America\",\"Europe\",\"Europe\",\"Europe\"],\"type\":\"scatter\"}],                        {\"template\":{\"data\":{\"histogram2dcontour\":[{\"type\":\"histogram2dcontour\",\"colorbar\":{\"outlinewidth\":0,\"ticks\":\"\"},\"colorscale\":[[0.0,\"#0d0887\"],[0.1111111111111111,\"#46039f\"],[0.2222222222222222,\"#7201a8\"],[0.3333333333333333,\"#9c179e\"],[0.4444444444444444,\"#bd3786\"],[0.5555555555555556,\"#d8576b\"],[0.6666666666666666,\"#ed7953\"],[0.7777777777777778,\"#fb9f3a\"],[0.8888888888888888,\"#fdca26\"],[1.0,\"#f0f921\"]]}],\"choropleth\":[{\"type\":\"choropleth\",\"colorbar\":{\"outlinewidth\":0,\"ticks\":\"\"}}],\"histogram2d\":[{\"type\":\"histogram2d\",\"colorbar\":{\"outlinewidth\":0,\"ticks\":\"\"},\"colorscale\":[[0.0,\"#0d0887\"],[0.1111111111111111,\"#46039f\"],[0.2222222222222222,\"#7201a8\"],[0.3333333333333333,\"#9c179e\"],[0.4444444444444444,\"#bd3786\"],[0.5555555555555556,\"#d8576b\"],[0.6666666666666666,\"#ed7953\"],[0.7777777777777778,\"#fb9f3a\"],[0.8888888888888888,\"#fdca26\"],[1.0,\"#f0f921\"]]}],\"heatmap\":[{\"type\":\"heatmap\",\"colorbar\":{\"outlinewidth\":0,\"ticks\":\"\"},\"colorscale\":[[0.0,\"#0d0887\"],[0.1111111111111111,\"#46039f\"],[0.2222222222222222,\"#7201a8\"],[0.3333333333333333,\"#9c179e\"],[0.4444444444444444,\"#bd3786\"],[0.5555555555555556,\"#d8576b\"],[0.6666666666666666,\"#ed7953\"],[0.7777777777777778,\"#fb9f3a\"],[0.8888888888888888,\"#fdca26\"],[1.0,\"#f0f921\"]]}],\"heatmapgl\":[{\"type\":\"heatmapgl\",\"colorbar\":{\"outlinewidth\":0,\"ticks\":\"\"},\"colorscale\":[[0.0,\"#0d0887\"],[0.1111111111111111,\"#46039f\"],[0.2222222222222222,\"#7201a8\"],[0.3333333333333333,\"#9c179e\"],[0.4444444444444444,\"#bd3786\"],[0.5555555555555556,\"#d8576b\"],[0.6666666666666666,\"#ed7953\"],[0.7777777777777778,\"#fb9f3a\"],[0.8888888888888888,\"#fdca26\"],[1.0,\"#f0f921\"]]}],\"contourcarpet\":[{\"type\":\"contourcarpet\",\"colorbar\":{\"outlinewidth\":0,\"ticks\":\"\"}}],\"contour\":[{\"type\":\"contour\",\"colorbar\":{\"outlinewidth\":0,\"ticks\":\"\"},\"colorscale\":[[0.0,\"#0d0887\"],[0.1111111111111111,\"#46039f\"],[0.2222222222222222,\"#7201a8\"],[0.3333333333333333,\"#9c179e\"],[0.4444444444444444,\"#bd3786\"],[0.5555555555555556,\"#d8576b\"],[0.6666666666666666,\"#ed7953\"],[0.7777777777777778,\"#fb9f3a\"],[0.8888888888888888,\"#fdca26\"],[1.0,\"#f0f921\"]]}],\"surface\":[{\"type\":\"surface\",\"colorbar\":{\"outlinewidth\":0,\"ticks\":\"\"},\"colorscale\":[[0.0,\"#0d0887\"],[0.1111111111111111,\"#46039f\"],[0.2222222222222222,\"#7201a8\"],[0.3333333333333333,\"#9c179e\"],[0.4444444444444444,\"#bd3786\"],[0.5555555555555556,\"#d8576b\"],[0.6666666666666666,\"#ed7953\"],[0.7777777777777778,\"#fb9f3a\"],[0.8888888888888888,\"#fdca26\"],[1.0,\"#f0f921\"]]}],\"mesh3d\":[{\"type\":\"mesh3d\",\"colorbar\":{\"outlinewidth\":0,\"ticks\":\"\"}}],\"scatter\":[{\"fillpattern\":{\"fillmode\":\"overlay\",\"size\":10,\"solidity\":0.2},\"type\":\"scatter\"}],\"parcoords\":[{\"type\":\"parcoords\",\"line\":{\"colorbar\":{\"outlinewidth\":0,\"ticks\":\"\"}}}],\"scatterpolargl\":[{\"type\":\"scatterpolargl\",\"marker\":{\"colorbar\":{\"outlinewidth\":0,\"ticks\":\"\"}}}],\"bar\":[{\"error_x\":{\"color\":\"#2a3f5f\"},\"error_y\":{\"color\":\"#2a3f5f\"},\"marker\":{\"line\":{\"color\":\"#E5ECF6\",\"width\":0.5},\"pattern\":{\"fillmode\":\"overlay\",\"size\":10,\"solidity\":0.2}},\"type\":\"bar\"}],\"scattergeo\":[{\"type\":\"scattergeo\",\"marker\":{\"colorbar\":{\"outlinewidth\":0,\"ticks\":\"\"}}}],\"scatterpolar\":[{\"type\":\"scatterpolar\",\"marker\":{\"colorbar\":{\"outlinewidth\":0,\"ticks\":\"\"}}}],\"histogram\":[{\"marker\":{\"pattern\":{\"fillmode\":\"overlay\",\"size\":10,\"solidity\":0.2}},\"type\":\"histogram\"}],\"scattergl\":[{\"type\":\"scattergl\",\"marker\":{\"colorbar\":{\"outlinewidth\":0,\"ticks\":\"\"}}}],\"scatter3d\":[{\"type\":\"scatter3d\",\"line\":{\"colorbar\":{\"outlinewidth\":0,\"ticks\":\"\"}},\"marker\":{\"colorbar\":{\"outlinewidth\":0,\"ticks\":\"\"}}}],\"scattermapbox\":[{\"type\":\"scattermapbox\",\"marker\":{\"colorbar\":{\"outlinewidth\":0,\"ticks\":\"\"}}}],\"scatterternary\":[{\"type\":\"scatterternary\",\"marker\":{\"colorbar\":{\"outlinewidth\":0,\"ticks\":\"\"}}}],\"scattercarpet\":[{\"type\":\"scattercarpet\",\"marker\":{\"colorbar\":{\"outlinewidth\":0,\"ticks\":\"\"}}}],\"carpet\":[{\"aaxis\":{\"endlinecolor\":\"#2a3f5f\",\"gridcolor\":\"white\",\"linecolor\":\"white\",\"minorgridcolor\":\"white\",\"startlinecolor\":\"#2a3f5f\"},\"baxis\":{\"endlinecolor\":\"#2a3f5f\",\"gridcolor\":\"white\",\"linecolor\":\"white\",\"minorgridcolor\":\"white\",\"startlinecolor\":\"#2a3f5f\"},\"type\":\"carpet\"}],\"table\":[{\"cells\":{\"fill\":{\"color\":\"#EBF0F8\"},\"line\":{\"color\":\"white\"}},\"header\":{\"fill\":{\"color\":\"#C8D4E3\"},\"line\":{\"color\":\"white\"}},\"type\":\"table\"}],\"barpolar\":[{\"marker\":{\"line\":{\"color\":\"#E5ECF6\",\"width\":0.5},\"pattern\":{\"fillmode\":\"overlay\",\"size\":10,\"solidity\":0.2}},\"type\":\"barpolar\"}],\"pie\":[{\"automargin\":true,\"type\":\"pie\"}]},\"layout\":{\"autotypenumbers\":\"strict\",\"colorway\":[\"#636efa\",\"#EF553B\",\"#00cc96\",\"#ab63fa\",\"#FFA15A\",\"#19d3f3\",\"#FF6692\",\"#B6E880\",\"#FF97FF\",\"#FECB52\"],\"font\":{\"color\":\"#2a3f5f\"},\"hovermode\":\"closest\",\"hoverlabel\":{\"align\":\"left\"},\"paper_bgcolor\":\"white\",\"plot_bgcolor\":\"#E5ECF6\",\"polar\":{\"bgcolor\":\"#E5ECF6\",\"angularaxis\":{\"gridcolor\":\"white\",\"linecolor\":\"white\",\"ticks\":\"\"},\"radialaxis\":{\"gridcolor\":\"white\",\"linecolor\":\"white\",\"ticks\":\"\"}},\"ternary\":{\"bgcolor\":\"#E5ECF6\",\"aaxis\":{\"gridcolor\":\"white\",\"linecolor\":\"white\",\"ticks\":\"\"},\"baxis\":{\"gridcolor\":\"white\",\"linecolor\":\"white\",\"ticks\":\"\"},\"caxis\":{\"gridcolor\":\"white\",\"linecolor\":\"white\",\"ticks\":\"\"}},\"coloraxis\":{\"colorbar\":{\"outlinewidth\":0,\"ticks\":\"\"}},\"colorscale\":{\"sequential\":[[0.0,\"#0d0887\"],[0.1111111111111111,\"#46039f\"],[0.2222222222222222,\"#7201a8\"],[0.3333333333333333,\"#9c179e\"],[0.4444444444444444,\"#bd3786\"],[0.5555555555555556,\"#d8576b\"],[0.6666666666666666,\"#ed7953\"],[0.7777777777777778,\"#fb9f3a\"],[0.8888888888888888,\"#fdca26\"],[1.0,\"#f0f921\"]],\"sequentialminus\":[[0.0,\"#0d0887\"],[0.1111111111111111,\"#46039f\"],[0.2222222222222222,\"#7201a8\"],[0.3333333333333333,\"#9c179e\"],[0.4444444444444444,\"#bd3786\"],[0.5555555555555556,\"#d8576b\"],[0.6666666666666666,\"#ed7953\"],[0.7777777777777778,\"#fb9f3a\"],[0.8888888888888888,\"#fdca26\"],[1.0,\"#f0f921\"]],\"diverging\":[[0,\"#8e0152\"],[0.1,\"#c51b7d\"],[0.2,\"#de77ae\"],[0.3,\"#f1b6da\"],[0.4,\"#fde0ef\"],[0.5,\"#f7f7f7\"],[0.6,\"#e6f5d0\"],[0.7,\"#b8e186\"],[0.8,\"#7fbc41\"],[0.9,\"#4d9221\"],[1,\"#276419\"]]},\"xaxis\":{\"gridcolor\":\"white\",\"linecolor\":\"white\",\"ticks\":\"\",\"title\":{\"standoff\":15},\"zerolinecolor\":\"white\",\"automargin\":true,\"zerolinewidth\":2},\"yaxis\":{\"gridcolor\":\"white\",\"linecolor\":\"white\",\"ticks\":\"\",\"title\":{\"standoff\":15},\"zerolinecolor\":\"white\",\"automargin\":true,\"zerolinewidth\":2},\"scene\":{\"xaxis\":{\"backgroundcolor\":\"#E5ECF6\",\"gridcolor\":\"white\",\"linecolor\":\"white\",\"showbackground\":true,\"ticks\":\"\",\"zerolinecolor\":\"white\",\"gridwidth\":2},\"yaxis\":{\"backgroundcolor\":\"#E5ECF6\",\"gridcolor\":\"white\",\"linecolor\":\"white\",\"showbackground\":true,\"ticks\":\"\",\"zerolinecolor\":\"white\",\"gridwidth\":2},\"zaxis\":{\"backgroundcolor\":\"#E5ECF6\",\"gridcolor\":\"white\",\"linecolor\":\"white\",\"showbackground\":true,\"ticks\":\"\",\"zerolinecolor\":\"white\",\"gridwidth\":2}},\"shapedefaults\":{\"line\":{\"color\":\"#2a3f5f\"}},\"annotationdefaults\":{\"arrowcolor\":\"#2a3f5f\",\"arrowhead\":0,\"arrowwidth\":1},\"geo\":{\"bgcolor\":\"white\",\"landcolor\":\"#E5ECF6\",\"subunitcolor\":\"white\",\"showland\":true,\"showlakes\":true,\"lakecolor\":\"white\"},\"title\":{\"x\":0.05},\"mapbox\":{\"style\":\"light\"}}},\"annotations\":[{\"align\":\"left\",\"font\":{\"color\":\"#2f3061\",\"size\":18},\"showarrow\":false,\"text\":\"Tennis players try to attend turnaments in adjacent time zones\",\"x\":0,\"xref\":\"paper\",\"y\":1.2,\"yref\":\"paper\"},{\"align\":\"left\",\"font\":{\"color\":\"#2f3061\"},\"showarrow\":false,\"text\":\"In 2022 Holger Rune spent most of the time in Europe and a few months in Americas\",\"x\":0,\"xref\":\"paper\",\"y\":1.1,\"yref\":\"paper\"},{\"align\":\"left\",\"font\":{\"color\":\"#2f3061\"},\"showarrow\":false,\"text\":\"11 tournaments in 4 months\",\"x\":0.45,\"xref\":\"paper\",\"y\":0.45,\"yref\":\"paper\"},{\"align\":\"left\",\"font\":{\"color\":\"#2f3061\"},\"showarrow\":false,\"text\":\"5 tournaments\",\"x\":0.91,\"xref\":\"paper\",\"y\":0.45,\"yref\":\"paper\"},{\"align\":\"left\",\"font\":{\"color\":\"#2f3061\"},\"showarrow\":false,\"text\":\"4 tournaments\",\"x\":0.73,\"xref\":\"paper\",\"y\":0.85,\"yref\":\"paper\"},{\"align\":\"left\",\"font\":{\"color\":\"#2f3061\"},\"showarrow\":false,\"text\":\"4 tournaments\",\"x\":0.13,\"xref\":\"paper\",\"y\":0.8,\"yref\":\"paper\"}],\"font\":{\"family\":\"Outfit\",\"size\":13},\"title\":{\"font\":{\"color\":\"#2f3061\"}},\"margin\":{\"t\":100},\"plot_bgcolor\":\"#f8f9fa\",\"xaxis\":{\"title\":{},\"ticks\":\"outside\",\"ticklen\":5,\"tickcolor\":\"#adb5bd\",\"linecolor\":\"#adb5bd\",\"color\":\"#2f3061\",\"showgrid\":false},\"yaxis\":{\"title\":{},\"shift\":-10,\"anchor\":\"free\",\"gridcolor\":\"#e9ecef\",\"color\":\"#2f3061\"}},                        {\"responsive\": true}                    ).then(function(){\n",
       "                            \n",
       "var gd = document.getElementById('56c1bff9-4b31-4785-99e7-ac92ca9a4a05');\n",
       "var x = new MutationObserver(function (mutations, observer) {{\n",
       "        var display = window.getComputedStyle(gd).display;\n",
       "        if (!display || display === 'none') {{\n",
       "            console.log([gd, 'removed!']);\n",
       "            Plotly.purge(gd);\n",
       "            observer.disconnect();\n",
       "        }}\n",
       "}});\n",
       "\n",
       "// Listen for the removal of the full notebook cells\n",
       "var notebookContainer = gd.closest('#notebook-container');\n",
       "if (notebookContainer) {{\n",
       "    x.observe(notebookContainer, {childList: true});\n",
       "}}\n",
       "\n",
       "// Listen for the clearing of the current output cell\n",
       "var outputEl = gd.closest('.output');\n",
       "if (outputEl) {{\n",
       "    x.observe(outputEl, {childList: true});\n",
       "}}\n",
       "\n",
       "                        })                };                });            </script>        </div>"
      ]
     },
     "metadata": {},
     "output_type": "display_data"
    }
   ],
   "source": [
    "# create plotly.graph_objects Figure()  and add trace\n",
    "figure = go.Figure()\n",
    "figure.add_scatter(\n",
    "    x = df_player_agg.Month,\n",
    "    y = df_player_agg.Zone,\n",
    "    mode='markers',\n",
    "    marker={'size': size, \n",
    "            'color': \"#067bc2\", \n",
    "            'opacity': 1}\n",
    "    )\n",
    "\n",
    "figure.add_annotation(text='Tennis players try to attend turnaments in adjacent time zones',\n",
    "                    align = 'left',\n",
    "                    showarrow = False,\n",
    "                    xref = 'paper',\n",
    "                    yref = 'paper',\n",
    "                    font = dict(size=18,\n",
    "                                color = \"#2f3061\"),\n",
    "                    x = 0,\n",
    "                    y = 1.2\n",
    "                                         )\n",
    "        \n",
    "figure.add_annotation(text='In 2022 Holger Rune spent most of the time in Europe and a few months in Americas', \n",
    "                    align = 'left',\n",
    "                    showarrow = False,\n",
    "                    xref = 'paper',\n",
    "                    yref = 'paper',\n",
    "                    font = dict(color = \"#2f3061\"),\n",
    "                    x = 0,\n",
    "                    y = 1.1)\n",
    "\n",
    "figure.add_annotation(text='11 tournaments in 4 months', \n",
    "                    align = 'left',\n",
    "                    showarrow = False,\n",
    "                    xref = 'paper',\n",
    "                    yref = 'paper',\n",
    "                    font = dict(color = \"#2f3061\"),\n",
    "                    x = 0.45,\n",
    "                    y = 0.45)\n",
    "\n",
    "figure.add_annotation(text='5 tournaments', \n",
    "                    align = 'left',\n",
    "                    showarrow = False,\n",
    "                    xref = 'paper',\n",
    "                    yref = 'paper',\n",
    "                    font = dict(color = \"#2f3061\"),\n",
    "                    x = 0.91,\n",
    "                    y = 0.45)\n",
    "\n",
    "figure.add_annotation(text='4 tournaments', \n",
    "                    align = 'left',\n",
    "                    showarrow = False,\n",
    "                    xref = 'paper',\n",
    "                    yref = 'paper',\n",
    "                    font = dict(color = \"#2f3061\"),\n",
    "                    x = 0.73,\n",
    "                    y = 0.85)\n",
    "\n",
    "figure.add_annotation(text='4 tournaments', \n",
    "                    align = 'left',\n",
    "                    showarrow = False,\n",
    "                    xref = 'paper',\n",
    "                    yref = 'paper',\n",
    "                    font = dict(color = \"#2f3061\"),\n",
    "                    x = 0.13,\n",
    "                    y = 0.8)\n",
    "\n",
    "figure.update_layout(\n",
    "            font_family = \"Outfit\",\n",
    "            font_size = 13,\n",
    "            plot_bgcolor = '#f8f9fa',            \n",
    "            xaxis_title = None,               # remove X title\n",
    "            yaxis_title = None,               # remove Y title\n",
    "            title_font_color = \"#2f3061\",\n",
    "            margin=dict(t=100)\n",
    "        )\n",
    "\n",
    "figure.update_xaxes(\n",
    "            ticks=\"outside\",                    # place ticks outside X-axis\n",
    "            ticklen=5,                          # ticks length \n",
    "            tickcolor = '#adb5bd',              # ticks color\n",
    "            linecolor = '#adb5bd',              # axis line color\n",
    "            color = \"#2f3061\",                  # axis label color\n",
    "            showgrid=False,                     # hide vertical background grid\n",
    "            \n",
    "        )\n",
    "        \n",
    "figure.update_yaxes(\n",
    "            shift= -10,                         # shift ticks left by 10 pixels\n",
    "            anchor=\"free\",                      # allows axis repositioning\n",
    "            gridcolor = '#e9ecef',              # horizontal background grid \n",
    "            color = \"#2f3061\"                   # axis label color\n",
    "        )\n",
    "\n",
    "figure.show()"
   ]
  },
  {
   "cell_type": "code",
   "execution_count": null,
   "id": "af99b763",
   "metadata": {},
   "outputs": [],
   "source": []
  }
 ],
 "metadata": {
  "kernelspec": {
   "display_name": "Python 3 (ipykernel)",
   "language": "python",
   "name": "python3"
  },
  "language_info": {
   "codemirror_mode": {
    "name": "ipython",
    "version": 3
   },
   "file_extension": ".py",
   "mimetype": "text/x-python",
   "name": "python",
   "nbconvert_exporter": "python",
   "pygments_lexer": "ipython3",
   "version": "3.10.9"
  }
 },
 "nbformat": 4,
 "nbformat_minor": 5
}
