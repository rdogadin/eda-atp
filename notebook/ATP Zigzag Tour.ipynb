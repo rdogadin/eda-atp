{
 "cells": [
  {
   "cell_type": "code",
   "execution_count": 1,
   "id": "0b2284df",
   "metadata": {},
   "outputs": [],
   "source": [
    "import pandas as pd\n",
    "import numpy as np\n",
    "import plotly.express as px\n",
    "import plotly.graph_objects as go\n",
    "import calendar\n",
    "from IPython.display import display, Markdown"
   ]
  },
  {
   "cell_type": "code",
   "execution_count": 2,
   "id": "90d82aac",
   "metadata": {},
   "outputs": [],
   "source": [
    "# set number of rows to display \n",
    "pd.set_option('display.max_rows',100)"
   ]
  },
  {
   "cell_type": "code",
   "execution_count": 3,
   "id": "6b2f1c17",
   "metadata": {},
   "outputs": [],
   "source": [
    "# import data\n",
    "df_raw = pd.read_csv(\"../data/atp_tennis.csv\",\n",
    "                     parse_dates=['Date'], # convert the date to datetime\n",
    "                     dtype={'Tournament':'string',\n",
    "                            'Series':'string',\n",
    "                            'Court':'string',\n",
    "                            'Surface':'string',\n",
    "                            'Round':'string',\n",
    "                            'Player_1':'string',\n",
    "                            'Player_2':'string',\n",
    "                            'Winner':'string',\n",
    "                            'Score':'string'\n",
    "                           }\n",
    "                    )"
   ]
  },
  {
   "cell_type": "code",
   "execution_count": 4,
   "id": "ee252308",
   "metadata": {},
   "outputs": [
    {
     "name": "stdout",
     "output_type": "stream",
     "text": [
      "<class 'pandas.core.frame.DataFrame'>\n",
      "RangeIndex: 60729 entries, 0 to 60728\n",
      "Data columns (total 17 columns):\n",
      " #   Column      Non-Null Count  Dtype         \n",
      "---  ------      --------------  -----         \n",
      " 0   Tournament  60729 non-null  string        \n",
      " 1   Date        60729 non-null  datetime64[ns]\n",
      " 2   Series      60729 non-null  string        \n",
      " 3   Court       60729 non-null  string        \n",
      " 4   Surface     60729 non-null  string        \n",
      " 5   Round       60729 non-null  string        \n",
      " 6   Best of     60729 non-null  int64         \n",
      " 7   Player_1    60729 non-null  string        \n",
      " 8   Player_2    60729 non-null  string        \n",
      " 9   Winner      60729 non-null  string        \n",
      " 10  Rank_1      60729 non-null  int64         \n",
      " 11  Rank_2      60729 non-null  int64         \n",
      " 12  Pts_1       60729 non-null  int64         \n",
      " 13  Pts_2       60729 non-null  int64         \n",
      " 14  Odd_1       60729 non-null  float64       \n",
      " 15  Odd_2       60729 non-null  float64       \n",
      " 16  Score       60729 non-null  string        \n",
      "dtypes: datetime64[ns](1), float64(2), int64(5), string(9)\n",
      "memory usage: 7.9 MB\n"
     ]
    }
   ],
   "source": [
    "df_raw.info()"
   ]
  },
  {
   "cell_type": "markdown",
   "id": "ae7d725b",
   "metadata": {},
   "source": [
    "### Data Preparation"
   ]
  },
  {
   "cell_type": "code",
   "execution_count": 5,
   "id": "e5b06cc4",
   "metadata": {},
   "outputs": [],
   "source": [
    "# create new columns by parsing the match date\n",
    "df_raw['Year'] = df_raw['Date'].dt.year\n",
    "df_raw['Month_Number'] = df_raw['Date'].dt.month\n",
    "df_raw['Day'] = df_raw['Date'].dt.day"
   ]
  },
  {
   "cell_type": "code",
   "execution_count": 6,
   "id": "a719dcd9",
   "metadata": {},
   "outputs": [],
   "source": [
    "# convert numeric months to names\n",
    "df_raw['Month'] = df_raw['Month_Number'].apply(lambda x:calendar.month_abbr[x])"
   ]
  },
  {
   "cell_type": "code",
   "execution_count": 7,
   "id": "af4330b5",
   "metadata": {},
   "outputs": [],
   "source": [
    "# create an empty Country column\n",
    "df_raw['Country'] = np.nan\n",
    "\n",
    "# Australia\n",
    "df_raw.loc[df_raw['Tournament'].isin(['Adelaide International 1',\n",
    "                                      'Adelaide International 2',\n",
    "                                      'Melbourne Summer Set',\n",
    "                                      'Sydney Tennis Classic',\n",
    "                                      'Australian Open',\n",
    "                                      'ASB Classic',\n",
    "                                      'Murray River Open'\n",
    "                                      ]),'Country'] = 'Australia'\n",
    "\n",
    "# South America\n",
    "df_raw.loc[df_raw['Tournament'].isin(['Argentina Open',\n",
    "                                      'Cordoba Open',\n",
    "                                      'Chile Open',\n",
    "                                      'Rio Open']),'Country'] = 'South America'\n",
    "\n",
    "# US\n",
    "df_raw.loc[df_raw['Tournament'].isin(['Atlanta Open',\n",
    "                                      'Dallas Open',\n",
    "                                      'Delray Beach Open',\n",
    "                                      'Hall of Fame Championships',\n",
    "                                      'San Diego Open',\n",
    "                                      'U.S. Men\\'s Clay Court Championships',\n",
    "                                      'Winston-Salem Open at Wake Forest University',\n",
    "                                      'Citi Open',\n",
    "                                      'US Open',\n",
    "                                      'BNP Paribas Open',\n",
    "                                      'Miami Open',\n",
    "                                      'Western & Southern Financial Group Masters',\n",
    "                                      'BB&T Atlanta Open'\n",
    "                                      ])\n",
    "           ,'Country'] = 'US'\n",
    "# Europe\n",
    "df_raw.loc[df_raw['Tournament'].isin(['BMW Open',\n",
    "                                      'Croatia Open',\n",
    "                                      'Eastbourne International',\n",
    "                                      'Eastbourne International',\n",
    "                                      'European Open',\n",
    "                                      'Firenze Open',\n",
    "                                      'Generali Open',\n",
    "                                      'Geneva Open',\n",
    "                                      'Gijon Open',\n",
    "                                      'Lyon Open',\n",
    "                                      'Mallorca Championships',\n",
    "                                      'Mercedes Cup',\n",
    "                                      'Millennium Estoril Open',\n",
    "                                      'Napoli Cup',\n",
    "                                      'Nordea Open',\n",
    "                                      'Open 13',\n",
    "                                      'Open Sud de France',\n",
    "                                      'Open de Moselle',\n",
    "                                      'Rosmalen Grass Court Championships',\n",
    "                                      'Serbia Open',\n",
    "                                      'Sofia Open',\n",
    "                                      'Stockholm Open',\n",
    "                                      'Suisse Open Gstaad',\n",
    "                                      'ABN AMRO World Tennis Tournament',\n",
    "                                      'Barcelona Open',\n",
    "                                      'Halle Open',\n",
    "                                      'Queen\\'s Club Championships',\n",
    "                                      'Swiss Indoors',\n",
    "                                      'Vienna Open',\n",
    "                                      'French Open',\n",
    "                                      'Wimbledon',\n",
    "                                      'BNP Paribas Masters',\n",
    "                                      'Internazionali BNL d\\'Italia',\n",
    "                                      'Monte Carlo Masters',\n",
    "                                      'Mutua Madrid Open',\n",
    "                                      'Masters Cup',\n",
    "                                      'Srpska Open',\n",
    "                                      'bett1HULKS Championship',\n",
    "                                      'Viking International',\n",
    "                                      'AnyTech365 Andalucia Open',\n",
    "                                      'Belgrade Open',\n",
    "                                      'Kremlin Cup',\n",
    "                                      'St. Petersburg Open',\n",
    "                                      'Emilia-Romagna Open',\n",
    "                                      'Sardegna Open',\n",
    "                                      'Stuttgart Open'\n",
    "                                     ])\n",
    "           ,'Country'] = 'Europe'\n",
    "\n",
    "# MENA\n",
    "df_raw.loc[df_raw['Tournament'].isin(['Grand Prix Hassan II',\n",
    "                                     'Qatar Exxon Mobil Open',\n",
    "                                     'Tel Aviv Open',\n",
    "                                     'Dubai Tennis Championships',\n",
    "                                     'Antalya Open'])\n",
    "           ,'Country'] = 'MENA'\n",
    "\n",
    "# Asia\n",
    "df_raw.loc[df_raw['Tournament'].isin(['Korea Open',\n",
    "                                     'Maharashtra Open',\n",
    "                                     'Rakuten Japan Open Tennis Championships',\n",
    "                                     'Singapore Open'])\n",
    "           ,'Country'] = 'Asia'\n",
    "\n",
    "# Mexico\n",
    "df_raw.loc[df_raw['Tournament'].isin(['Los Cabos Open',\n",
    "                                      'Abierto Mexicano'])\n",
    "           ,'Country'] = 'Mexico'\n",
    "# Kazakhstan\n",
    "df_raw.loc[df_raw['Tournament'].isin(['Astana Open'])\n",
    "           ,'Country'] = 'Kazakhstan'\n",
    "\n",
    "# Canada\n",
    "df_raw.loc[df_raw['Tournament'].isin(['Canadian Open'])\n",
    "           ,'Country'] = 'Canada'"
   ]
  },
  {
   "cell_type": "code",
   "execution_count": 8,
   "id": "e21ab303",
   "metadata": {},
   "outputs": [],
   "source": [
    "# function to assign colors to regions/countries\n",
    "def set_color(x):\n",
    "    if(x == 'Australia'):\n",
    "        return \"white\"\n",
    "    elif(x == 'South America'):\n",
    "        return \"blue\"\n",
    "    elif(x == 'Mexico'):\n",
    "        return \"brown\"\n",
    "    elif(x == \"Kazakhstan\"):\n",
    "        return \"purple\"\n",
    "    elif(x == \"Mexico\"):\n",
    "        return \"black\"\n",
    "    elif(x == 'MENA'):\n",
    "        return \"yellow\"\n",
    "    elif(x == 'US'):\n",
    "        return \"red\"\n",
    "    elif(x == 'Europe'):\n",
    "        return \"orange\"\n",
    "    elif(x == 'Asia'):\n",
    "        return \"green\"\n",
    "    elif(x == 'Canada'):\n",
    "        return \"light blue\""
   ]
  },
  {
   "cell_type": "markdown",
   "id": "8c43bb90",
   "metadata": {},
   "source": [
    "### Data Visualization"
   ]
  },
  {
   "cell_type": "code",
   "execution_count": 9,
   "id": "f68d3117",
   "metadata": {},
   "outputs": [],
   "source": [
    "# extract data for a given player\n",
    "df_player = df_raw[(df_raw['Player_1'] == 'Rune H.') | (df_raw['Player_2'] == 'Rune H.')][['Year','Month','Day','Series','Tournament','Country']]"
   ]
  },
  {
   "cell_type": "code",
   "execution_count": 10,
   "id": "c1cfe58e",
   "metadata": {},
   "outputs": [
    {
     "data": {
      "text/html": [
       "<div>\n",
       "<style scoped>\n",
       "    .dataframe tbody tr th:only-of-type {\n",
       "        vertical-align: middle;\n",
       "    }\n",
       "\n",
       "    .dataframe tbody tr th {\n",
       "        vertical-align: top;\n",
       "    }\n",
       "\n",
       "    .dataframe thead th {\n",
       "        text-align: right;\n",
       "    }\n",
       "</style>\n",
       "<table border=\"1\" class=\"dataframe\">\n",
       "  <thead>\n",
       "    <tr style=\"text-align: right;\">\n",
       "      <th></th>\n",
       "      <th>Year</th>\n",
       "      <th>Month</th>\n",
       "      <th>Day</th>\n",
       "      <th>Series</th>\n",
       "      <th>Tournament</th>\n",
       "      <th>Country</th>\n",
       "    </tr>\n",
       "  </thead>\n",
       "  <tbody>\n",
       "    <tr>\n",
       "      <th>56414</th>\n",
       "      <td>2022</td>\n",
       "      <td>Jan</td>\n",
       "      <td>4</td>\n",
       "      <td>ATP250</td>\n",
       "      <td>Adelaide International 1</td>\n",
       "      <td>Australia</td>\n",
       "    </tr>\n",
       "    <tr>\n",
       "      <th>56514</th>\n",
       "      <td>2022</td>\n",
       "      <td>Jan</td>\n",
       "      <td>17</td>\n",
       "      <td>Grand Slam</td>\n",
       "      <td>Australian Open</td>\n",
       "      <td>Australia</td>\n",
       "    </tr>\n",
       "    <tr>\n",
       "      <th>56642</th>\n",
       "      <td>2022</td>\n",
       "      <td>Feb</td>\n",
       "      <td>1</td>\n",
       "      <td>ATP250</td>\n",
       "      <td>Cordoba Open</td>\n",
       "      <td>South America</td>\n",
       "    </tr>\n",
       "    <tr>\n",
       "      <th>56725</th>\n",
       "      <td>2022</td>\n",
       "      <td>Feb</td>\n",
       "      <td>8</td>\n",
       "      <td>ATP250</td>\n",
       "      <td>Argentina Open</td>\n",
       "      <td>South America</td>\n",
       "    </tr>\n",
       "    <tr>\n",
       "      <th>56859</th>\n",
       "      <td>2022</td>\n",
       "      <td>Feb</td>\n",
       "      <td>15</td>\n",
       "      <td>ATP250</td>\n",
       "      <td>Open 13</td>\n",
       "      <td>Europe</td>\n",
       "    </tr>\n",
       "    <tr>\n",
       "      <th>56867</th>\n",
       "      <td>2022</td>\n",
       "      <td>Feb</td>\n",
       "      <td>16</td>\n",
       "      <td>ATP250</td>\n",
       "      <td>Open 13</td>\n",
       "      <td>Europe</td>\n",
       "    </tr>\n",
       "    <tr>\n",
       "      <th>56978</th>\n",
       "      <td>2022</td>\n",
       "      <td>Feb</td>\n",
       "      <td>22</td>\n",
       "      <td>ATP250</td>\n",
       "      <td>Chile Open</td>\n",
       "      <td>South America</td>\n",
       "    </tr>\n",
       "    <tr>\n",
       "      <th>57019</th>\n",
       "      <td>2022</td>\n",
       "      <td>Mar</td>\n",
       "      <td>12</td>\n",
       "      <td>Masters 1000</td>\n",
       "      <td>BNP Paribas Open</td>\n",
       "      <td>US</td>\n",
       "    </tr>\n",
       "    <tr>\n",
       "      <th>57052</th>\n",
       "      <td>2022</td>\n",
       "      <td>Mar</td>\n",
       "      <td>13</td>\n",
       "      <td>Masters 1000</td>\n",
       "      <td>BNP Paribas Open</td>\n",
       "      <td>US</td>\n",
       "    </tr>\n",
       "    <tr>\n",
       "      <th>57255</th>\n",
       "      <td>2022</td>\n",
       "      <td>Apr</td>\n",
       "      <td>12</td>\n",
       "      <td>Masters 1000</td>\n",
       "      <td>Monte Carlo Masters</td>\n",
       "      <td>Europe</td>\n",
       "    </tr>\n",
       "    <tr>\n",
       "      <th>57265</th>\n",
       "      <td>2022</td>\n",
       "      <td>Apr</td>\n",
       "      <td>13</td>\n",
       "      <td>Masters 1000</td>\n",
       "      <td>Monte Carlo Masters</td>\n",
       "      <td>Europe</td>\n",
       "    </tr>\n",
       "    <tr>\n",
       "      <th>57333</th>\n",
       "      <td>2022</td>\n",
       "      <td>Apr</td>\n",
       "      <td>18</td>\n",
       "      <td>ATP250</td>\n",
       "      <td>Serbia Open</td>\n",
       "      <td>Europe</td>\n",
       "    </tr>\n",
       "    <tr>\n",
       "      <th>57350</th>\n",
       "      <td>2022</td>\n",
       "      <td>Apr</td>\n",
       "      <td>21</td>\n",
       "      <td>ATP250</td>\n",
       "      <td>Serbia Open</td>\n",
       "      <td>Europe</td>\n",
       "    </tr>\n",
       "    <tr>\n",
       "      <th>57388</th>\n",
       "      <td>2022</td>\n",
       "      <td>Apr</td>\n",
       "      <td>25</td>\n",
       "      <td>ATP250</td>\n",
       "      <td>BMW Open</td>\n",
       "      <td>Europe</td>\n",
       "    </tr>\n",
       "    <tr>\n",
       "      <th>57397</th>\n",
       "      <td>2022</td>\n",
       "      <td>Apr</td>\n",
       "      <td>27</td>\n",
       "      <td>ATP250</td>\n",
       "      <td>BMW Open</td>\n",
       "      <td>Europe</td>\n",
       "    </tr>\n",
       "    <tr>\n",
       "      <th>57406</th>\n",
       "      <td>2022</td>\n",
       "      <td>Apr</td>\n",
       "      <td>29</td>\n",
       "      <td>ATP250</td>\n",
       "      <td>BMW Open</td>\n",
       "      <td>Europe</td>\n",
       "    </tr>\n",
       "    <tr>\n",
       "      <th>57408</th>\n",
       "      <td>2022</td>\n",
       "      <td>Apr</td>\n",
       "      <td>30</td>\n",
       "      <td>ATP250</td>\n",
       "      <td>BMW Open</td>\n",
       "      <td>Europe</td>\n",
       "    </tr>\n",
       "    <tr>\n",
       "      <th>57545</th>\n",
       "      <td>2022</td>\n",
       "      <td>May</td>\n",
       "      <td>15</td>\n",
       "      <td>ATP250</td>\n",
       "      <td>Lyon Open</td>\n",
       "      <td>Europe</td>\n",
       "    </tr>\n",
       "    <tr>\n",
       "      <th>57561</th>\n",
       "      <td>2022</td>\n",
       "      <td>May</td>\n",
       "      <td>18</td>\n",
       "      <td>ATP250</td>\n",
       "      <td>Lyon Open</td>\n",
       "      <td>Europe</td>\n",
       "    </tr>\n",
       "    <tr>\n",
       "      <th>57564</th>\n",
       "      <td>2022</td>\n",
       "      <td>May</td>\n",
       "      <td>19</td>\n",
       "      <td>ATP250</td>\n",
       "      <td>Lyon Open</td>\n",
       "      <td>Europe</td>\n",
       "    </tr>\n",
       "    <tr>\n",
       "      <th>57567</th>\n",
       "      <td>2022</td>\n",
       "      <td>May</td>\n",
       "      <td>20</td>\n",
       "      <td>ATP250</td>\n",
       "      <td>Lyon Open</td>\n",
       "      <td>Europe</td>\n",
       "    </tr>\n",
       "    <tr>\n",
       "      <th>57607</th>\n",
       "      <td>2022</td>\n",
       "      <td>May</td>\n",
       "      <td>24</td>\n",
       "      <td>Grand Slam</td>\n",
       "      <td>French Open</td>\n",
       "      <td>Europe</td>\n",
       "    </tr>\n",
       "    <tr>\n",
       "      <th>57649</th>\n",
       "      <td>2022</td>\n",
       "      <td>May</td>\n",
       "      <td>26</td>\n",
       "      <td>Grand Slam</td>\n",
       "      <td>French Open</td>\n",
       "      <td>Europe</td>\n",
       "    </tr>\n",
       "    <tr>\n",
       "      <th>57679</th>\n",
       "      <td>2022</td>\n",
       "      <td>May</td>\n",
       "      <td>28</td>\n",
       "      <td>Grand Slam</td>\n",
       "      <td>French Open</td>\n",
       "      <td>Europe</td>\n",
       "    </tr>\n",
       "    <tr>\n",
       "      <th>57685</th>\n",
       "      <td>2022</td>\n",
       "      <td>May</td>\n",
       "      <td>30</td>\n",
       "      <td>Grand Slam</td>\n",
       "      <td>French Open</td>\n",
       "      <td>Europe</td>\n",
       "    </tr>\n",
       "    <tr>\n",
       "      <th>57690</th>\n",
       "      <td>2022</td>\n",
       "      <td>Jun</td>\n",
       "      <td>1</td>\n",
       "      <td>Grand Slam</td>\n",
       "      <td>French Open</td>\n",
       "      <td>Europe</td>\n",
       "    </tr>\n",
       "    <tr>\n",
       "      <th>57745</th>\n",
       "      <td>2022</td>\n",
       "      <td>Jun</td>\n",
       "      <td>13</td>\n",
       "      <td>ATP500</td>\n",
       "      <td>Halle Open</td>\n",
       "      <td>Europe</td>\n",
       "    </tr>\n",
       "    <tr>\n",
       "      <th>57810</th>\n",
       "      <td>2022</td>\n",
       "      <td>Jun</td>\n",
       "      <td>21</td>\n",
       "      <td>ATP250</td>\n",
       "      <td>Eastbourne International</td>\n",
       "      <td>Europe</td>\n",
       "    </tr>\n",
       "    <tr>\n",
       "      <th>57897</th>\n",
       "      <td>2022</td>\n",
       "      <td>Jun</td>\n",
       "      <td>28</td>\n",
       "      <td>Grand Slam</td>\n",
       "      <td>Wimbledon</td>\n",
       "      <td>Europe</td>\n",
       "    </tr>\n",
       "    <tr>\n",
       "      <th>57986</th>\n",
       "      <td>2022</td>\n",
       "      <td>Jul</td>\n",
       "      <td>12</td>\n",
       "      <td>ATP250</td>\n",
       "      <td>Nordea Open</td>\n",
       "      <td>Europe</td>\n",
       "    </tr>\n",
       "    <tr>\n",
       "      <th>58061</th>\n",
       "      <td>2022</td>\n",
       "      <td>Jul</td>\n",
       "      <td>19</td>\n",
       "      <td>ATP250</td>\n",
       "      <td>European Open</td>\n",
       "      <td>Europe</td>\n",
       "    </tr>\n",
       "    <tr>\n",
       "      <th>58151</th>\n",
       "      <td>2022</td>\n",
       "      <td>Jul</td>\n",
       "      <td>27</td>\n",
       "      <td>ATP250</td>\n",
       "      <td>Croatia Open</td>\n",
       "      <td>Europe</td>\n",
       "    </tr>\n",
       "    <tr>\n",
       "      <th>58209</th>\n",
       "      <td>2022</td>\n",
       "      <td>Aug</td>\n",
       "      <td>3</td>\n",
       "      <td>ATP500</td>\n",
       "      <td>Citi Open</td>\n",
       "      <td>US</td>\n",
       "    </tr>\n",
       "    <tr>\n",
       "      <th>58223</th>\n",
       "      <td>2022</td>\n",
       "      <td>Aug</td>\n",
       "      <td>5</td>\n",
       "      <td>ATP500</td>\n",
       "      <td>Citi Open</td>\n",
       "      <td>US</td>\n",
       "    </tr>\n",
       "    <tr>\n",
       "      <th>58250</th>\n",
       "      <td>2022</td>\n",
       "      <td>Aug</td>\n",
       "      <td>9</td>\n",
       "      <td>Masters 1000</td>\n",
       "      <td>Canadian Open</td>\n",
       "      <td>Canada</td>\n",
       "    </tr>\n",
       "    <tr>\n",
       "      <th>58263</th>\n",
       "      <td>2022</td>\n",
       "      <td>Aug</td>\n",
       "      <td>10</td>\n",
       "      <td>Masters 1000</td>\n",
       "      <td>Canadian Open</td>\n",
       "      <td>Canada</td>\n",
       "    </tr>\n",
       "    <tr>\n",
       "      <th>58296</th>\n",
       "      <td>2022</td>\n",
       "      <td>Aug</td>\n",
       "      <td>15</td>\n",
       "      <td>Masters 1000</td>\n",
       "      <td>Western &amp; Southern Financial Group Masters</td>\n",
       "      <td>US</td>\n",
       "    </tr>\n",
       "    <tr>\n",
       "      <th>58427</th>\n",
       "      <td>2022</td>\n",
       "      <td>Aug</td>\n",
       "      <td>30</td>\n",
       "      <td>Grand Slam</td>\n",
       "      <td>US Open</td>\n",
       "      <td>US</td>\n",
       "    </tr>\n",
       "    <tr>\n",
       "      <th>58485</th>\n",
       "      <td>2022</td>\n",
       "      <td>Sep</td>\n",
       "      <td>3</td>\n",
       "      <td>Grand Slam</td>\n",
       "      <td>US Open</td>\n",
       "      <td>US</td>\n",
       "    </tr>\n",
       "    <tr>\n",
       "      <th>58529</th>\n",
       "      <td>2022</td>\n",
       "      <td>Sep</td>\n",
       "      <td>23</td>\n",
       "      <td>ATP250</td>\n",
       "      <td>Open de Moselle</td>\n",
       "      <td>Europe</td>\n",
       "    </tr>\n",
       "    <tr>\n",
       "      <th>58585</th>\n",
       "      <td>2022</td>\n",
       "      <td>Sep</td>\n",
       "      <td>27</td>\n",
       "      <td>ATP250</td>\n",
       "      <td>Sofia Open</td>\n",
       "      <td>Europe</td>\n",
       "    </tr>\n",
       "    <tr>\n",
       "      <th>58598</th>\n",
       "      <td>2022</td>\n",
       "      <td>Sep</td>\n",
       "      <td>29</td>\n",
       "      <td>ATP250</td>\n",
       "      <td>Sofia Open</td>\n",
       "      <td>Europe</td>\n",
       "    </tr>\n",
       "    <tr>\n",
       "      <th>58605</th>\n",
       "      <td>2022</td>\n",
       "      <td>Sep</td>\n",
       "      <td>30</td>\n",
       "      <td>ATP250</td>\n",
       "      <td>Sofia Open</td>\n",
       "      <td>Europe</td>\n",
       "    </tr>\n",
       "    <tr>\n",
       "      <th>58607</th>\n",
       "      <td>2022</td>\n",
       "      <td>Oct</td>\n",
       "      <td>2</td>\n",
       "      <td>ATP250</td>\n",
       "      <td>Sofia Open</td>\n",
       "      <td>Europe</td>\n",
       "    </tr>\n",
       "    <tr>\n",
       "      <th>58799</th>\n",
       "      <td>2022</td>\n",
       "      <td>Oct</td>\n",
       "      <td>17</td>\n",
       "      <td>ATP250</td>\n",
       "      <td>Stockholm Open</td>\n",
       "      <td>Europe</td>\n",
       "    </tr>\n",
       "    <tr>\n",
       "      <th>58811</th>\n",
       "      <td>2022</td>\n",
       "      <td>Oct</td>\n",
       "      <td>19</td>\n",
       "      <td>ATP250</td>\n",
       "      <td>Stockholm Open</td>\n",
       "      <td>Europe</td>\n",
       "    </tr>\n",
       "    <tr>\n",
       "      <th>58818</th>\n",
       "      <td>2022</td>\n",
       "      <td>Oct</td>\n",
       "      <td>21</td>\n",
       "      <td>ATP250</td>\n",
       "      <td>Stockholm Open</td>\n",
       "      <td>Europe</td>\n",
       "    </tr>\n",
       "    <tr>\n",
       "      <th>58821</th>\n",
       "      <td>2022</td>\n",
       "      <td>Oct</td>\n",
       "      <td>22</td>\n",
       "      <td>ATP250</td>\n",
       "      <td>Stockholm Open</td>\n",
       "      <td>Europe</td>\n",
       "    </tr>\n",
       "    <tr>\n",
       "      <th>58823</th>\n",
       "      <td>2022</td>\n",
       "      <td>Oct</td>\n",
       "      <td>23</td>\n",
       "      <td>ATP250</td>\n",
       "      <td>Stockholm Open</td>\n",
       "      <td>Europe</td>\n",
       "    </tr>\n",
       "    <tr>\n",
       "      <th>58837</th>\n",
       "      <td>2022</td>\n",
       "      <td>Oct</td>\n",
       "      <td>26</td>\n",
       "      <td>ATP500</td>\n",
       "      <td>Swiss Indoors</td>\n",
       "      <td>Europe</td>\n",
       "    </tr>\n",
       "    <tr>\n",
       "      <th>58847</th>\n",
       "      <td>2022</td>\n",
       "      <td>Oct</td>\n",
       "      <td>27</td>\n",
       "      <td>ATP500</td>\n",
       "      <td>Swiss Indoors</td>\n",
       "      <td>Europe</td>\n",
       "    </tr>\n",
       "    <tr>\n",
       "      <th>58851</th>\n",
       "      <td>2022</td>\n",
       "      <td>Oct</td>\n",
       "      <td>28</td>\n",
       "      <td>ATP500</td>\n",
       "      <td>Swiss Indoors</td>\n",
       "      <td>Europe</td>\n",
       "    </tr>\n",
       "    <tr>\n",
       "      <th>58853</th>\n",
       "      <td>2022</td>\n",
       "      <td>Oct</td>\n",
       "      <td>29</td>\n",
       "      <td>ATP500</td>\n",
       "      <td>Swiss Indoors</td>\n",
       "      <td>Europe</td>\n",
       "    </tr>\n",
       "    <tr>\n",
       "      <th>58854</th>\n",
       "      <td>2022</td>\n",
       "      <td>Oct</td>\n",
       "      <td>30</td>\n",
       "      <td>ATP500</td>\n",
       "      <td>Swiss Indoors</td>\n",
       "      <td>Europe</td>\n",
       "    </tr>\n",
       "    <tr>\n",
       "      <th>58909</th>\n",
       "      <td>2022</td>\n",
       "      <td>Nov</td>\n",
       "      <td>1</td>\n",
       "      <td>Masters 1000</td>\n",
       "      <td>BNP Paribas Masters</td>\n",
       "      <td>Europe</td>\n",
       "    </tr>\n",
       "    <tr>\n",
       "      <th>58922</th>\n",
       "      <td>2022</td>\n",
       "      <td>Nov</td>\n",
       "      <td>2</td>\n",
       "      <td>Masters 1000</td>\n",
       "      <td>BNP Paribas Masters</td>\n",
       "      <td>Europe</td>\n",
       "    </tr>\n",
       "    <tr>\n",
       "      <th>58929</th>\n",
       "      <td>2022</td>\n",
       "      <td>Nov</td>\n",
       "      <td>3</td>\n",
       "      <td>Masters 1000</td>\n",
       "      <td>BNP Paribas Masters</td>\n",
       "      <td>Europe</td>\n",
       "    </tr>\n",
       "    <tr>\n",
       "      <th>58937</th>\n",
       "      <td>2022</td>\n",
       "      <td>Nov</td>\n",
       "      <td>5</td>\n",
       "      <td>Masters 1000</td>\n",
       "      <td>BNP Paribas Masters</td>\n",
       "      <td>Europe</td>\n",
       "    </tr>\n",
       "    <tr>\n",
       "      <th>58939</th>\n",
       "      <td>2022</td>\n",
       "      <td>Nov</td>\n",
       "      <td>6</td>\n",
       "      <td>Masters 1000</td>\n",
       "      <td>BNP Paribas Masters</td>\n",
       "      <td>Europe</td>\n",
       "    </tr>\n",
       "  </tbody>\n",
       "</table>\n",
       "</div>"
      ],
      "text/plain": [
       "       Year Month  Day        Series  \\\n",
       "56414  2022   Jan    4        ATP250   \n",
       "56514  2022   Jan   17    Grand Slam   \n",
       "56642  2022   Feb    1        ATP250   \n",
       "56725  2022   Feb    8        ATP250   \n",
       "56859  2022   Feb   15        ATP250   \n",
       "56867  2022   Feb   16        ATP250   \n",
       "56978  2022   Feb   22        ATP250   \n",
       "57019  2022   Mar   12  Masters 1000   \n",
       "57052  2022   Mar   13  Masters 1000   \n",
       "57255  2022   Apr   12  Masters 1000   \n",
       "57265  2022   Apr   13  Masters 1000   \n",
       "57333  2022   Apr   18        ATP250   \n",
       "57350  2022   Apr   21        ATP250   \n",
       "57388  2022   Apr   25        ATP250   \n",
       "57397  2022   Apr   27        ATP250   \n",
       "57406  2022   Apr   29        ATP250   \n",
       "57408  2022   Apr   30        ATP250   \n",
       "57545  2022   May   15        ATP250   \n",
       "57561  2022   May   18        ATP250   \n",
       "57564  2022   May   19        ATP250   \n",
       "57567  2022   May   20        ATP250   \n",
       "57607  2022   May   24    Grand Slam   \n",
       "57649  2022   May   26    Grand Slam   \n",
       "57679  2022   May   28    Grand Slam   \n",
       "57685  2022   May   30    Grand Slam   \n",
       "57690  2022   Jun    1    Grand Slam   \n",
       "57745  2022   Jun   13        ATP500   \n",
       "57810  2022   Jun   21        ATP250   \n",
       "57897  2022   Jun   28    Grand Slam   \n",
       "57986  2022   Jul   12        ATP250   \n",
       "58061  2022   Jul   19        ATP250   \n",
       "58151  2022   Jul   27        ATP250   \n",
       "58209  2022   Aug    3        ATP500   \n",
       "58223  2022   Aug    5        ATP500   \n",
       "58250  2022   Aug    9  Masters 1000   \n",
       "58263  2022   Aug   10  Masters 1000   \n",
       "58296  2022   Aug   15  Masters 1000   \n",
       "58427  2022   Aug   30    Grand Slam   \n",
       "58485  2022   Sep    3    Grand Slam   \n",
       "58529  2022   Sep   23        ATP250   \n",
       "58585  2022   Sep   27        ATP250   \n",
       "58598  2022   Sep   29        ATP250   \n",
       "58605  2022   Sep   30        ATP250   \n",
       "58607  2022   Oct    2        ATP250   \n",
       "58799  2022   Oct   17        ATP250   \n",
       "58811  2022   Oct   19        ATP250   \n",
       "58818  2022   Oct   21        ATP250   \n",
       "58821  2022   Oct   22        ATP250   \n",
       "58823  2022   Oct   23        ATP250   \n",
       "58837  2022   Oct   26        ATP500   \n",
       "58847  2022   Oct   27        ATP500   \n",
       "58851  2022   Oct   28        ATP500   \n",
       "58853  2022   Oct   29        ATP500   \n",
       "58854  2022   Oct   30        ATP500   \n",
       "58909  2022   Nov    1  Masters 1000   \n",
       "58922  2022   Nov    2  Masters 1000   \n",
       "58929  2022   Nov    3  Masters 1000   \n",
       "58937  2022   Nov    5  Masters 1000   \n",
       "58939  2022   Nov    6  Masters 1000   \n",
       "\n",
       "                                       Tournament        Country  \n",
       "56414                    Adelaide International 1      Australia  \n",
       "56514                             Australian Open      Australia  \n",
       "56642                                Cordoba Open  South America  \n",
       "56725                              Argentina Open  South America  \n",
       "56859                                     Open 13         Europe  \n",
       "56867                                     Open 13         Europe  \n",
       "56978                                  Chile Open  South America  \n",
       "57019                            BNP Paribas Open             US  \n",
       "57052                            BNP Paribas Open             US  \n",
       "57255                         Monte Carlo Masters         Europe  \n",
       "57265                         Monte Carlo Masters         Europe  \n",
       "57333                                 Serbia Open         Europe  \n",
       "57350                                 Serbia Open         Europe  \n",
       "57388                                    BMW Open         Europe  \n",
       "57397                                    BMW Open         Europe  \n",
       "57406                                    BMW Open         Europe  \n",
       "57408                                    BMW Open         Europe  \n",
       "57545                                   Lyon Open         Europe  \n",
       "57561                                   Lyon Open         Europe  \n",
       "57564                                   Lyon Open         Europe  \n",
       "57567                                   Lyon Open         Europe  \n",
       "57607                                 French Open         Europe  \n",
       "57649                                 French Open         Europe  \n",
       "57679                                 French Open         Europe  \n",
       "57685                                 French Open         Europe  \n",
       "57690                                 French Open         Europe  \n",
       "57745                                  Halle Open         Europe  \n",
       "57810                    Eastbourne International         Europe  \n",
       "57897                                   Wimbledon         Europe  \n",
       "57986                                 Nordea Open         Europe  \n",
       "58061                               European Open         Europe  \n",
       "58151                                Croatia Open         Europe  \n",
       "58209                                   Citi Open             US  \n",
       "58223                                   Citi Open             US  \n",
       "58250                               Canadian Open         Canada  \n",
       "58263                               Canadian Open         Canada  \n",
       "58296  Western & Southern Financial Group Masters             US  \n",
       "58427                                     US Open             US  \n",
       "58485                                     US Open             US  \n",
       "58529                             Open de Moselle         Europe  \n",
       "58585                                  Sofia Open         Europe  \n",
       "58598                                  Sofia Open         Europe  \n",
       "58605                                  Sofia Open         Europe  \n",
       "58607                                  Sofia Open         Europe  \n",
       "58799                              Stockholm Open         Europe  \n",
       "58811                              Stockholm Open         Europe  \n",
       "58818                              Stockholm Open         Europe  \n",
       "58821                              Stockholm Open         Europe  \n",
       "58823                              Stockholm Open         Europe  \n",
       "58837                               Swiss Indoors         Europe  \n",
       "58847                               Swiss Indoors         Europe  \n",
       "58851                               Swiss Indoors         Europe  \n",
       "58853                               Swiss Indoors         Europe  \n",
       "58854                               Swiss Indoors         Europe  \n",
       "58909                         BNP Paribas Masters         Europe  \n",
       "58922                         BNP Paribas Masters         Europe  \n",
       "58929                         BNP Paribas Masters         Europe  \n",
       "58937                         BNP Paribas Masters         Europe  \n",
       "58939                         BNP Paribas Masters         Europe  "
      ]
     },
     "execution_count": 10,
     "metadata": {},
     "output_type": "execute_result"
    }
   ],
   "source": [
    "df_player[df_player['Year']==2022]"
   ]
  },
  {
   "cell_type": "code",
   "execution_count": 11,
   "id": "cfb3fce7",
   "metadata": {},
   "outputs": [
    {
     "data": {
      "text/html": [
       "<div>\n",
       "<style scoped>\n",
       "    .dataframe tbody tr th:only-of-type {\n",
       "        vertical-align: middle;\n",
       "    }\n",
       "\n",
       "    .dataframe tbody tr th {\n",
       "        vertical-align: top;\n",
       "    }\n",
       "\n",
       "    .dataframe thead th {\n",
       "        text-align: right;\n",
       "    }\n",
       "</style>\n",
       "<table border=\"1\" class=\"dataframe\">\n",
       "  <thead>\n",
       "    <tr style=\"text-align: right;\">\n",
       "      <th></th>\n",
       "      <th>Year</th>\n",
       "      <th>Month</th>\n",
       "      <th>Day</th>\n",
       "      <th>Series</th>\n",
       "      <th>Tournament</th>\n",
       "      <th>Country</th>\n",
       "    </tr>\n",
       "  </thead>\n",
       "  <tbody>\n",
       "  </tbody>\n",
       "</table>\n",
       "</div>"
      ],
      "text/plain": [
       "Empty DataFrame\n",
       "Columns: [Year, Month, Day, Series, Tournament, Country]\n",
       "Index: []"
      ]
     },
     "execution_count": 11,
     "metadata": {},
     "output_type": "execute_result"
    }
   ],
   "source": [
    "# sanity check to make sure there are no unassigned countries\n",
    "df_player[df_player['Year'].isin([2021,2022,2023]) & df_player['Country'].isna()]"
   ]
  },
  {
   "cell_type": "code",
   "execution_count": 33,
   "id": "48d831e5",
   "metadata": {},
   "outputs": [],
   "source": [
    "def player_stats(player1):\n",
    "    \n",
    "    # extract data for a given player\n",
    "    df_player_1 = df_raw[(df_raw['Player_1'] == player1)|(df_raw['Player_2'] == player1)] \\\n",
    "                [['Year','Month','Day','Series','Tournament','Country','Month_Number']]\n",
    "    \n",
    "    #print(df_player_1)\n",
    "    \n",
    "    # remove dups and sort\n",
    "    df_player_1 = df_player_1.drop_duplicates().sort_values(by=['Year','Month_Number','Series'])\n",
    "    \n",
    "    # years to visualize\n",
    "    atp_years = [2022]\n",
    "    \n",
    "    for year in atp_years:\n",
    "        # display year\n",
    "        # display(Markdown('### Year {}'.format(year)))\n",
    "        # extract data for the player for the iterated year\n",
    "        df_player1_year = df_player_1[df_player_1['Year'] == year].drop(columns=['Year'])\n",
    "        \n",
    "        # numerate rows based on a grouping and sorting. Similar to ROW_NUMBER()\n",
    "        df_player1_year['RowNum'] = df_player1_year.sort_values(['Month_Number','Day'], ascending=[True,True]) \\\n",
    "             .groupby(['Tournament']) \\\n",
    "             .cumcount() + 1\n",
    "        \n",
    "        # drop rows for the same tournament\n",
    "        df_player1_year.drop(df_player1_year[df_player1_year['RowNum'] > 1].index,inplace=True)\n",
    "\n",
    "        # sort data\n",
    "        df_player1_year.sort_values(by=['Month_Number','Day', 'Series'], inplace=True)\n",
    "        \n",
    "        #print(df_player1_year)\n",
    "        \n",
    "        # create a line graph\n",
    "        fig_atp_attendance = px.line(\n",
    "            df_player1_year,\n",
    "            x = 'Month',\n",
    "            y = 'Series',\n",
    "            markers = True,\n",
    "            category_orders={'Series':['Grand Slam','Masters 1000','ATP500','ATP250'],\n",
    "                             'Month':['Jan','Feb','Mar','Apr','May','Jun','Jul','Aug','Sep','Oct','Nov','Dec']\n",
    "                                       }\n",
    "        )        \n",
    "\n",
    "        fig_atp_attendance.update_layout(\n",
    "            font_family = \"Outfit\",\n",
    "            font_size = 13,\n",
    "            plot_bgcolor = '#f8f9fa',            \n",
    "            xaxis_title = None,               # remove X title\n",
    "            yaxis_title = None,               # remove Y title\n",
    "            title_font_color = \"#2f3061\",\n",
    "            margin=dict(t=100)\n",
    "        )\n",
    "        \n",
    "        # update player 1 line\n",
    "        fig_atp_attendance.update_traces(\n",
    "            patch={\"line\":{\n",
    "                            \"width\": 3,\n",
    "                            \"color\" : \"#ea3788\"}\n",
    "            }\n",
    "        )\n",
    "        \n",
    "        fig_atp_attendance.update_xaxes(\n",
    "            ticks=\"outside\",                    # place ticks outside X-axis\n",
    "            ticklen=5,                          # ticks length \n",
    "            tickcolor = '#adb5bd',              # ticks color\n",
    "            linecolor = '#adb5bd',              # axis line color\n",
    "            color = \"#2f3061\",                  # axis label color\n",
    "            showgrid=False,                     # hide vertical background grid\n",
    "            \n",
    "        )\n",
    "        \n",
    "        fig_atp_attendance.update_yaxes(\n",
    "            shift= -10,                         # shift ticks left by 10 pixels\n",
    "            anchor=\"free\",                      # allows axis repositioning\n",
    "            gridcolor = '#e9ecef',              # horizontal background grid \n",
    "            color = \"#2f3061\"                   # axis label color\n",
    "        )\n",
    "        \n",
    "        fig_atp_attendance.add_annotation(text='Professional tennis players participate in tournaments following a zigzag pattern',\n",
    "                    align = 'left',\n",
    "                    showarrow = False,\n",
    "                    xref = 'paper',\n",
    "                    yref = 'paper',\n",
    "                    font = dict(size=18,\n",
    "                                color = \"#2f3061\"),\n",
    "                    x = 0,\n",
    "                    y = 1.2\n",
    "                                         )\n",
    "        \n",
    "        fig_atp_attendance.add_annotation(text='In 2022 Holger Rune switched 6 times between the most important \\\n",
    "Grand Slam tournaments and the lowest tier ATP 250', \n",
    "                    align = 'left',\n",
    "                    showarrow = False,\n",
    "                    xref = 'paper',\n",
    "                    yref = 'paper',\n",
    "                    font = dict(color = \"#2f3061\"),\n",
    "                    x = 0,\n",
    "                    y = 1.1)\n",
    "        \n",
    "        # output the graph\n",
    "        fig_atp_attendance.show()"
   ]
  },
  {
   "cell_type": "code",
   "execution_count": 34,
   "id": "bad93779",
   "metadata": {
    "scrolled": false
   },
   "outputs": [
    {
     "data": {
      "application/vnd.plotly.v1+json": {
       "config": {
        "plotlyServerURL": "https://plot.ly"
       },
       "data": [
        {
         "hovertemplate": "Month=%{x}<br>Series=%{y}<extra></extra>",
         "legendgroup": "",
         "line": {
          "color": "#ea3788",
          "dash": "solid",
          "width": 3
         },
         "marker": {
          "symbol": "circle"
         },
         "mode": "lines+markers",
         "name": "",
         "orientation": "v",
         "showlegend": false,
         "type": "scatter",
         "x": [
          "Jan",
          "Jan",
          "Feb",
          "Feb",
          "Feb",
          "Feb",
          "Mar",
          "Apr",
          "Apr",
          "Apr",
          "May",
          "May",
          "Jun",
          "Jun",
          "Jun",
          "Jul",
          "Jul",
          "Jul",
          "Aug",
          "Aug",
          "Aug",
          "Aug",
          "Sep",
          "Sep",
          "Oct",
          "Oct",
          "Nov"
         ],
         "xaxis": "x",
         "y": [
          "ATP250",
          "Grand Slam",
          "ATP250",
          "ATP250",
          "ATP250",
          "ATP250",
          "Masters 1000",
          "Masters 1000",
          "ATP250",
          "ATP250",
          "ATP250",
          "Grand Slam",
          "ATP500",
          "ATP250",
          "Grand Slam",
          "ATP250",
          "ATP250",
          "ATP250",
          "ATP500",
          "Masters 1000",
          "Masters 1000",
          "Grand Slam",
          "ATP250",
          "ATP250",
          "ATP250",
          "ATP500",
          "Masters 1000"
         ],
         "yaxis": "y"
        }
       ],
       "layout": {
        "annotations": [
         {
          "align": "left",
          "font": {
           "color": "#2f3061",
           "size": 18
          },
          "showarrow": false,
          "text": "Professional tennis players participate in tournaments following a zigzag pattern",
          "x": 0,
          "xref": "paper",
          "y": 1.2,
          "yref": "paper"
         },
         {
          "align": "left",
          "font": {
           "color": "#2f3061"
          },
          "showarrow": false,
          "text": "In 2022 Holger Rune switched 6 times between the most important Grand Slam tournaments and the lowest tier ATP 250",
          "x": 0,
          "xref": "paper",
          "y": 1.1,
          "yref": "paper"
         }
        ],
        "font": {
         "family": "Outfit",
         "size": 13
        },
        "legend": {
         "tracegroupgap": 0
        },
        "margin": {
         "t": 100
        },
        "plot_bgcolor": "#f8f9fa",
        "template": {
         "data": {
          "bar": [
           {
            "error_x": {
             "color": "#2a3f5f"
            },
            "error_y": {
             "color": "#2a3f5f"
            },
            "marker": {
             "line": {
              "color": "#E5ECF6",
              "width": 0.5
             },
             "pattern": {
              "fillmode": "overlay",
              "size": 10,
              "solidity": 0.2
             }
            },
            "type": "bar"
           }
          ],
          "barpolar": [
           {
            "marker": {
             "line": {
              "color": "#E5ECF6",
              "width": 0.5
             },
             "pattern": {
              "fillmode": "overlay",
              "size": 10,
              "solidity": 0.2
             }
            },
            "type": "barpolar"
           }
          ],
          "carpet": [
           {
            "aaxis": {
             "endlinecolor": "#2a3f5f",
             "gridcolor": "white",
             "linecolor": "white",
             "minorgridcolor": "white",
             "startlinecolor": "#2a3f5f"
            },
            "baxis": {
             "endlinecolor": "#2a3f5f",
             "gridcolor": "white",
             "linecolor": "white",
             "minorgridcolor": "white",
             "startlinecolor": "#2a3f5f"
            },
            "type": "carpet"
           }
          ],
          "choropleth": [
           {
            "colorbar": {
             "outlinewidth": 0,
             "ticks": ""
            },
            "type": "choropleth"
           }
          ],
          "contour": [
           {
            "colorbar": {
             "outlinewidth": 0,
             "ticks": ""
            },
            "colorscale": [
             [
              0,
              "#0d0887"
             ],
             [
              0.1111111111111111,
              "#46039f"
             ],
             [
              0.2222222222222222,
              "#7201a8"
             ],
             [
              0.3333333333333333,
              "#9c179e"
             ],
             [
              0.4444444444444444,
              "#bd3786"
             ],
             [
              0.5555555555555556,
              "#d8576b"
             ],
             [
              0.6666666666666666,
              "#ed7953"
             ],
             [
              0.7777777777777778,
              "#fb9f3a"
             ],
             [
              0.8888888888888888,
              "#fdca26"
             ],
             [
              1,
              "#f0f921"
             ]
            ],
            "type": "contour"
           }
          ],
          "contourcarpet": [
           {
            "colorbar": {
             "outlinewidth": 0,
             "ticks": ""
            },
            "type": "contourcarpet"
           }
          ],
          "heatmap": [
           {
            "colorbar": {
             "outlinewidth": 0,
             "ticks": ""
            },
            "colorscale": [
             [
              0,
              "#0d0887"
             ],
             [
              0.1111111111111111,
              "#46039f"
             ],
             [
              0.2222222222222222,
              "#7201a8"
             ],
             [
              0.3333333333333333,
              "#9c179e"
             ],
             [
              0.4444444444444444,
              "#bd3786"
             ],
             [
              0.5555555555555556,
              "#d8576b"
             ],
             [
              0.6666666666666666,
              "#ed7953"
             ],
             [
              0.7777777777777778,
              "#fb9f3a"
             ],
             [
              0.8888888888888888,
              "#fdca26"
             ],
             [
              1,
              "#f0f921"
             ]
            ],
            "type": "heatmap"
           }
          ],
          "heatmapgl": [
           {
            "colorbar": {
             "outlinewidth": 0,
             "ticks": ""
            },
            "colorscale": [
             [
              0,
              "#0d0887"
             ],
             [
              0.1111111111111111,
              "#46039f"
             ],
             [
              0.2222222222222222,
              "#7201a8"
             ],
             [
              0.3333333333333333,
              "#9c179e"
             ],
             [
              0.4444444444444444,
              "#bd3786"
             ],
             [
              0.5555555555555556,
              "#d8576b"
             ],
             [
              0.6666666666666666,
              "#ed7953"
             ],
             [
              0.7777777777777778,
              "#fb9f3a"
             ],
             [
              0.8888888888888888,
              "#fdca26"
             ],
             [
              1,
              "#f0f921"
             ]
            ],
            "type": "heatmapgl"
           }
          ],
          "histogram": [
           {
            "marker": {
             "pattern": {
              "fillmode": "overlay",
              "size": 10,
              "solidity": 0.2
             }
            },
            "type": "histogram"
           }
          ],
          "histogram2d": [
           {
            "colorbar": {
             "outlinewidth": 0,
             "ticks": ""
            },
            "colorscale": [
             [
              0,
              "#0d0887"
             ],
             [
              0.1111111111111111,
              "#46039f"
             ],
             [
              0.2222222222222222,
              "#7201a8"
             ],
             [
              0.3333333333333333,
              "#9c179e"
             ],
             [
              0.4444444444444444,
              "#bd3786"
             ],
             [
              0.5555555555555556,
              "#d8576b"
             ],
             [
              0.6666666666666666,
              "#ed7953"
             ],
             [
              0.7777777777777778,
              "#fb9f3a"
             ],
             [
              0.8888888888888888,
              "#fdca26"
             ],
             [
              1,
              "#f0f921"
             ]
            ],
            "type": "histogram2d"
           }
          ],
          "histogram2dcontour": [
           {
            "colorbar": {
             "outlinewidth": 0,
             "ticks": ""
            },
            "colorscale": [
             [
              0,
              "#0d0887"
             ],
             [
              0.1111111111111111,
              "#46039f"
             ],
             [
              0.2222222222222222,
              "#7201a8"
             ],
             [
              0.3333333333333333,
              "#9c179e"
             ],
             [
              0.4444444444444444,
              "#bd3786"
             ],
             [
              0.5555555555555556,
              "#d8576b"
             ],
             [
              0.6666666666666666,
              "#ed7953"
             ],
             [
              0.7777777777777778,
              "#fb9f3a"
             ],
             [
              0.8888888888888888,
              "#fdca26"
             ],
             [
              1,
              "#f0f921"
             ]
            ],
            "type": "histogram2dcontour"
           }
          ],
          "mesh3d": [
           {
            "colorbar": {
             "outlinewidth": 0,
             "ticks": ""
            },
            "type": "mesh3d"
           }
          ],
          "parcoords": [
           {
            "line": {
             "colorbar": {
              "outlinewidth": 0,
              "ticks": ""
             }
            },
            "type": "parcoords"
           }
          ],
          "pie": [
           {
            "automargin": true,
            "type": "pie"
           }
          ],
          "scatter": [
           {
            "fillpattern": {
             "fillmode": "overlay",
             "size": 10,
             "solidity": 0.2
            },
            "type": "scatter"
           }
          ],
          "scatter3d": [
           {
            "line": {
             "colorbar": {
              "outlinewidth": 0,
              "ticks": ""
             }
            },
            "marker": {
             "colorbar": {
              "outlinewidth": 0,
              "ticks": ""
             }
            },
            "type": "scatter3d"
           }
          ],
          "scattercarpet": [
           {
            "marker": {
             "colorbar": {
              "outlinewidth": 0,
              "ticks": ""
             }
            },
            "type": "scattercarpet"
           }
          ],
          "scattergeo": [
           {
            "marker": {
             "colorbar": {
              "outlinewidth": 0,
              "ticks": ""
             }
            },
            "type": "scattergeo"
           }
          ],
          "scattergl": [
           {
            "marker": {
             "colorbar": {
              "outlinewidth": 0,
              "ticks": ""
             }
            },
            "type": "scattergl"
           }
          ],
          "scattermapbox": [
           {
            "marker": {
             "colorbar": {
              "outlinewidth": 0,
              "ticks": ""
             }
            },
            "type": "scattermapbox"
           }
          ],
          "scatterpolar": [
           {
            "marker": {
             "colorbar": {
              "outlinewidth": 0,
              "ticks": ""
             }
            },
            "type": "scatterpolar"
           }
          ],
          "scatterpolargl": [
           {
            "marker": {
             "colorbar": {
              "outlinewidth": 0,
              "ticks": ""
             }
            },
            "type": "scatterpolargl"
           }
          ],
          "scatterternary": [
           {
            "marker": {
             "colorbar": {
              "outlinewidth": 0,
              "ticks": ""
             }
            },
            "type": "scatterternary"
           }
          ],
          "surface": [
           {
            "colorbar": {
             "outlinewidth": 0,
             "ticks": ""
            },
            "colorscale": [
             [
              0,
              "#0d0887"
             ],
             [
              0.1111111111111111,
              "#46039f"
             ],
             [
              0.2222222222222222,
              "#7201a8"
             ],
             [
              0.3333333333333333,
              "#9c179e"
             ],
             [
              0.4444444444444444,
              "#bd3786"
             ],
             [
              0.5555555555555556,
              "#d8576b"
             ],
             [
              0.6666666666666666,
              "#ed7953"
             ],
             [
              0.7777777777777778,
              "#fb9f3a"
             ],
             [
              0.8888888888888888,
              "#fdca26"
             ],
             [
              1,
              "#f0f921"
             ]
            ],
            "type": "surface"
           }
          ],
          "table": [
           {
            "cells": {
             "fill": {
              "color": "#EBF0F8"
             },
             "line": {
              "color": "white"
             }
            },
            "header": {
             "fill": {
              "color": "#C8D4E3"
             },
             "line": {
              "color": "white"
             }
            },
            "type": "table"
           }
          ]
         },
         "layout": {
          "annotationdefaults": {
           "arrowcolor": "#2a3f5f",
           "arrowhead": 0,
           "arrowwidth": 1
          },
          "autotypenumbers": "strict",
          "coloraxis": {
           "colorbar": {
            "outlinewidth": 0,
            "ticks": ""
           }
          },
          "colorscale": {
           "diverging": [
            [
             0,
             "#8e0152"
            ],
            [
             0.1,
             "#c51b7d"
            ],
            [
             0.2,
             "#de77ae"
            ],
            [
             0.3,
             "#f1b6da"
            ],
            [
             0.4,
             "#fde0ef"
            ],
            [
             0.5,
             "#f7f7f7"
            ],
            [
             0.6,
             "#e6f5d0"
            ],
            [
             0.7,
             "#b8e186"
            ],
            [
             0.8,
             "#7fbc41"
            ],
            [
             0.9,
             "#4d9221"
            ],
            [
             1,
             "#276419"
            ]
           ],
           "sequential": [
            [
             0,
             "#0d0887"
            ],
            [
             0.1111111111111111,
             "#46039f"
            ],
            [
             0.2222222222222222,
             "#7201a8"
            ],
            [
             0.3333333333333333,
             "#9c179e"
            ],
            [
             0.4444444444444444,
             "#bd3786"
            ],
            [
             0.5555555555555556,
             "#d8576b"
            ],
            [
             0.6666666666666666,
             "#ed7953"
            ],
            [
             0.7777777777777778,
             "#fb9f3a"
            ],
            [
             0.8888888888888888,
             "#fdca26"
            ],
            [
             1,
             "#f0f921"
            ]
           ],
           "sequentialminus": [
            [
             0,
             "#0d0887"
            ],
            [
             0.1111111111111111,
             "#46039f"
            ],
            [
             0.2222222222222222,
             "#7201a8"
            ],
            [
             0.3333333333333333,
             "#9c179e"
            ],
            [
             0.4444444444444444,
             "#bd3786"
            ],
            [
             0.5555555555555556,
             "#d8576b"
            ],
            [
             0.6666666666666666,
             "#ed7953"
            ],
            [
             0.7777777777777778,
             "#fb9f3a"
            ],
            [
             0.8888888888888888,
             "#fdca26"
            ],
            [
             1,
             "#f0f921"
            ]
           ]
          },
          "colorway": [
           "#636efa",
           "#EF553B",
           "#00cc96",
           "#ab63fa",
           "#FFA15A",
           "#19d3f3",
           "#FF6692",
           "#B6E880",
           "#FF97FF",
           "#FECB52"
          ],
          "font": {
           "color": "#2a3f5f"
          },
          "geo": {
           "bgcolor": "white",
           "lakecolor": "white",
           "landcolor": "#E5ECF6",
           "showlakes": true,
           "showland": true,
           "subunitcolor": "white"
          },
          "hoverlabel": {
           "align": "left"
          },
          "hovermode": "closest",
          "mapbox": {
           "style": "light"
          },
          "paper_bgcolor": "white",
          "plot_bgcolor": "#E5ECF6",
          "polar": {
           "angularaxis": {
            "gridcolor": "white",
            "linecolor": "white",
            "ticks": ""
           },
           "bgcolor": "#E5ECF6",
           "radialaxis": {
            "gridcolor": "white",
            "linecolor": "white",
            "ticks": ""
           }
          },
          "scene": {
           "xaxis": {
            "backgroundcolor": "#E5ECF6",
            "gridcolor": "white",
            "gridwidth": 2,
            "linecolor": "white",
            "showbackground": true,
            "ticks": "",
            "zerolinecolor": "white"
           },
           "yaxis": {
            "backgroundcolor": "#E5ECF6",
            "gridcolor": "white",
            "gridwidth": 2,
            "linecolor": "white",
            "showbackground": true,
            "ticks": "",
            "zerolinecolor": "white"
           },
           "zaxis": {
            "backgroundcolor": "#E5ECF6",
            "gridcolor": "white",
            "gridwidth": 2,
            "linecolor": "white",
            "showbackground": true,
            "ticks": "",
            "zerolinecolor": "white"
           }
          },
          "shapedefaults": {
           "line": {
            "color": "#2a3f5f"
           }
          },
          "ternary": {
           "aaxis": {
            "gridcolor": "white",
            "linecolor": "white",
            "ticks": ""
           },
           "baxis": {
            "gridcolor": "white",
            "linecolor": "white",
            "ticks": ""
           },
           "bgcolor": "#E5ECF6",
           "caxis": {
            "gridcolor": "white",
            "linecolor": "white",
            "ticks": ""
           }
          },
          "title": {
           "x": 0.05
          },
          "xaxis": {
           "automargin": true,
           "gridcolor": "white",
           "linecolor": "white",
           "ticks": "",
           "title": {
            "standoff": 15
           },
           "zerolinecolor": "white",
           "zerolinewidth": 2
          },
          "yaxis": {
           "automargin": true,
           "gridcolor": "white",
           "linecolor": "white",
           "ticks": "",
           "title": {
            "standoff": 15
           },
           "zerolinecolor": "white",
           "zerolinewidth": 2
          }
         }
        },
        "title": {
         "font": {
          "color": "#2f3061"
         }
        },
        "xaxis": {
         "anchor": "y",
         "categoryarray": [
          "Jan",
          "Feb",
          "Mar",
          "Apr",
          "May",
          "Jun",
          "Jul",
          "Aug",
          "Sep",
          "Oct",
          "Nov",
          "Dec"
         ],
         "categoryorder": "array",
         "color": "#2f3061",
         "domain": [
          0,
          1
         ],
         "linecolor": "#adb5bd",
         "showgrid": false,
         "tickcolor": "#adb5bd",
         "ticklen": 5,
         "ticks": "outside",
         "title": {}
        },
        "yaxis": {
         "anchor": "free",
         "categoryarray": [
          "ATP250",
          "ATP500",
          "Masters 1000",
          "Grand Slam"
         ],
         "categoryorder": "array",
         "color": "#2f3061",
         "domain": [
          0,
          1
         ],
         "gridcolor": "#e9ecef",
         "shift": -10,
         "title": {}
        }
       }
      },
      "text/html": [
       "<div>                            <div id=\"791ee0b7-f902-4e61-956a-772776cfab63\" class=\"plotly-graph-div\" style=\"height:525px; width:100%;\"></div>            <script type=\"text/javascript\">                require([\"plotly\"], function(Plotly) {                    window.PLOTLYENV=window.PLOTLYENV || {};                                    if (document.getElementById(\"791ee0b7-f902-4e61-956a-772776cfab63\")) {                    Plotly.newPlot(                        \"791ee0b7-f902-4e61-956a-772776cfab63\",                        [{\"hovertemplate\":\"Month=%{x}<br>Series=%{y}<extra></extra>\",\"legendgroup\":\"\",\"line\":{\"color\":\"#ea3788\",\"dash\":\"solid\",\"width\":3},\"marker\":{\"symbol\":\"circle\"},\"mode\":\"lines+markers\",\"name\":\"\",\"orientation\":\"v\",\"showlegend\":false,\"x\":[\"Jan\",\"Jan\",\"Feb\",\"Feb\",\"Feb\",\"Feb\",\"Mar\",\"Apr\",\"Apr\",\"Apr\",\"May\",\"May\",\"Jun\",\"Jun\",\"Jun\",\"Jul\",\"Jul\",\"Jul\",\"Aug\",\"Aug\",\"Aug\",\"Aug\",\"Sep\",\"Sep\",\"Oct\",\"Oct\",\"Nov\"],\"xaxis\":\"x\",\"y\":[\"ATP250\",\"Grand Slam\",\"ATP250\",\"ATP250\",\"ATP250\",\"ATP250\",\"Masters 1000\",\"Masters 1000\",\"ATP250\",\"ATP250\",\"ATP250\",\"Grand Slam\",\"ATP500\",\"ATP250\",\"Grand Slam\",\"ATP250\",\"ATP250\",\"ATP250\",\"ATP500\",\"Masters 1000\",\"Masters 1000\",\"Grand Slam\",\"ATP250\",\"ATP250\",\"ATP250\",\"ATP500\",\"Masters 1000\"],\"yaxis\":\"y\",\"type\":\"scatter\"}],                        {\"template\":{\"data\":{\"histogram2dcontour\":[{\"type\":\"histogram2dcontour\",\"colorbar\":{\"outlinewidth\":0,\"ticks\":\"\"},\"colorscale\":[[0.0,\"#0d0887\"],[0.1111111111111111,\"#46039f\"],[0.2222222222222222,\"#7201a8\"],[0.3333333333333333,\"#9c179e\"],[0.4444444444444444,\"#bd3786\"],[0.5555555555555556,\"#d8576b\"],[0.6666666666666666,\"#ed7953\"],[0.7777777777777778,\"#fb9f3a\"],[0.8888888888888888,\"#fdca26\"],[1.0,\"#f0f921\"]]}],\"choropleth\":[{\"type\":\"choropleth\",\"colorbar\":{\"outlinewidth\":0,\"ticks\":\"\"}}],\"histogram2d\":[{\"type\":\"histogram2d\",\"colorbar\":{\"outlinewidth\":0,\"ticks\":\"\"},\"colorscale\":[[0.0,\"#0d0887\"],[0.1111111111111111,\"#46039f\"],[0.2222222222222222,\"#7201a8\"],[0.3333333333333333,\"#9c179e\"],[0.4444444444444444,\"#bd3786\"],[0.5555555555555556,\"#d8576b\"],[0.6666666666666666,\"#ed7953\"],[0.7777777777777778,\"#fb9f3a\"],[0.8888888888888888,\"#fdca26\"],[1.0,\"#f0f921\"]]}],\"heatmap\":[{\"type\":\"heatmap\",\"colorbar\":{\"outlinewidth\":0,\"ticks\":\"\"},\"colorscale\":[[0.0,\"#0d0887\"],[0.1111111111111111,\"#46039f\"],[0.2222222222222222,\"#7201a8\"],[0.3333333333333333,\"#9c179e\"],[0.4444444444444444,\"#bd3786\"],[0.5555555555555556,\"#d8576b\"],[0.6666666666666666,\"#ed7953\"],[0.7777777777777778,\"#fb9f3a\"],[0.8888888888888888,\"#fdca26\"],[1.0,\"#f0f921\"]]}],\"heatmapgl\":[{\"type\":\"heatmapgl\",\"colorbar\":{\"outlinewidth\":0,\"ticks\":\"\"},\"colorscale\":[[0.0,\"#0d0887\"],[0.1111111111111111,\"#46039f\"],[0.2222222222222222,\"#7201a8\"],[0.3333333333333333,\"#9c179e\"],[0.4444444444444444,\"#bd3786\"],[0.5555555555555556,\"#d8576b\"],[0.6666666666666666,\"#ed7953\"],[0.7777777777777778,\"#fb9f3a\"],[0.8888888888888888,\"#fdca26\"],[1.0,\"#f0f921\"]]}],\"contourcarpet\":[{\"type\":\"contourcarpet\",\"colorbar\":{\"outlinewidth\":0,\"ticks\":\"\"}}],\"contour\":[{\"type\":\"contour\",\"colorbar\":{\"outlinewidth\":0,\"ticks\":\"\"},\"colorscale\":[[0.0,\"#0d0887\"],[0.1111111111111111,\"#46039f\"],[0.2222222222222222,\"#7201a8\"],[0.3333333333333333,\"#9c179e\"],[0.4444444444444444,\"#bd3786\"],[0.5555555555555556,\"#d8576b\"],[0.6666666666666666,\"#ed7953\"],[0.7777777777777778,\"#fb9f3a\"],[0.8888888888888888,\"#fdca26\"],[1.0,\"#f0f921\"]]}],\"surface\":[{\"type\":\"surface\",\"colorbar\":{\"outlinewidth\":0,\"ticks\":\"\"},\"colorscale\":[[0.0,\"#0d0887\"],[0.1111111111111111,\"#46039f\"],[0.2222222222222222,\"#7201a8\"],[0.3333333333333333,\"#9c179e\"],[0.4444444444444444,\"#bd3786\"],[0.5555555555555556,\"#d8576b\"],[0.6666666666666666,\"#ed7953\"],[0.7777777777777778,\"#fb9f3a\"],[0.8888888888888888,\"#fdca26\"],[1.0,\"#f0f921\"]]}],\"mesh3d\":[{\"type\":\"mesh3d\",\"colorbar\":{\"outlinewidth\":0,\"ticks\":\"\"}}],\"scatter\":[{\"fillpattern\":{\"fillmode\":\"overlay\",\"size\":10,\"solidity\":0.2},\"type\":\"scatter\"}],\"parcoords\":[{\"type\":\"parcoords\",\"line\":{\"colorbar\":{\"outlinewidth\":0,\"ticks\":\"\"}}}],\"scatterpolargl\":[{\"type\":\"scatterpolargl\",\"marker\":{\"colorbar\":{\"outlinewidth\":0,\"ticks\":\"\"}}}],\"bar\":[{\"error_x\":{\"color\":\"#2a3f5f\"},\"error_y\":{\"color\":\"#2a3f5f\"},\"marker\":{\"line\":{\"color\":\"#E5ECF6\",\"width\":0.5},\"pattern\":{\"fillmode\":\"overlay\",\"size\":10,\"solidity\":0.2}},\"type\":\"bar\"}],\"scattergeo\":[{\"type\":\"scattergeo\",\"marker\":{\"colorbar\":{\"outlinewidth\":0,\"ticks\":\"\"}}}],\"scatterpolar\":[{\"type\":\"scatterpolar\",\"marker\":{\"colorbar\":{\"outlinewidth\":0,\"ticks\":\"\"}}}],\"histogram\":[{\"marker\":{\"pattern\":{\"fillmode\":\"overlay\",\"size\":10,\"solidity\":0.2}},\"type\":\"histogram\"}],\"scattergl\":[{\"type\":\"scattergl\",\"marker\":{\"colorbar\":{\"outlinewidth\":0,\"ticks\":\"\"}}}],\"scatter3d\":[{\"type\":\"scatter3d\",\"line\":{\"colorbar\":{\"outlinewidth\":0,\"ticks\":\"\"}},\"marker\":{\"colorbar\":{\"outlinewidth\":0,\"ticks\":\"\"}}}],\"scattermapbox\":[{\"type\":\"scattermapbox\",\"marker\":{\"colorbar\":{\"outlinewidth\":0,\"ticks\":\"\"}}}],\"scatterternary\":[{\"type\":\"scatterternary\",\"marker\":{\"colorbar\":{\"outlinewidth\":0,\"ticks\":\"\"}}}],\"scattercarpet\":[{\"type\":\"scattercarpet\",\"marker\":{\"colorbar\":{\"outlinewidth\":0,\"ticks\":\"\"}}}],\"carpet\":[{\"aaxis\":{\"endlinecolor\":\"#2a3f5f\",\"gridcolor\":\"white\",\"linecolor\":\"white\",\"minorgridcolor\":\"white\",\"startlinecolor\":\"#2a3f5f\"},\"baxis\":{\"endlinecolor\":\"#2a3f5f\",\"gridcolor\":\"white\",\"linecolor\":\"white\",\"minorgridcolor\":\"white\",\"startlinecolor\":\"#2a3f5f\"},\"type\":\"carpet\"}],\"table\":[{\"cells\":{\"fill\":{\"color\":\"#EBF0F8\"},\"line\":{\"color\":\"white\"}},\"header\":{\"fill\":{\"color\":\"#C8D4E3\"},\"line\":{\"color\":\"white\"}},\"type\":\"table\"}],\"barpolar\":[{\"marker\":{\"line\":{\"color\":\"#E5ECF6\",\"width\":0.5},\"pattern\":{\"fillmode\":\"overlay\",\"size\":10,\"solidity\":0.2}},\"type\":\"barpolar\"}],\"pie\":[{\"automargin\":true,\"type\":\"pie\"}]},\"layout\":{\"autotypenumbers\":\"strict\",\"colorway\":[\"#636efa\",\"#EF553B\",\"#00cc96\",\"#ab63fa\",\"#FFA15A\",\"#19d3f3\",\"#FF6692\",\"#B6E880\",\"#FF97FF\",\"#FECB52\"],\"font\":{\"color\":\"#2a3f5f\"},\"hovermode\":\"closest\",\"hoverlabel\":{\"align\":\"left\"},\"paper_bgcolor\":\"white\",\"plot_bgcolor\":\"#E5ECF6\",\"polar\":{\"bgcolor\":\"#E5ECF6\",\"angularaxis\":{\"gridcolor\":\"white\",\"linecolor\":\"white\",\"ticks\":\"\"},\"radialaxis\":{\"gridcolor\":\"white\",\"linecolor\":\"white\",\"ticks\":\"\"}},\"ternary\":{\"bgcolor\":\"#E5ECF6\",\"aaxis\":{\"gridcolor\":\"white\",\"linecolor\":\"white\",\"ticks\":\"\"},\"baxis\":{\"gridcolor\":\"white\",\"linecolor\":\"white\",\"ticks\":\"\"},\"caxis\":{\"gridcolor\":\"white\",\"linecolor\":\"white\",\"ticks\":\"\"}},\"coloraxis\":{\"colorbar\":{\"outlinewidth\":0,\"ticks\":\"\"}},\"colorscale\":{\"sequential\":[[0.0,\"#0d0887\"],[0.1111111111111111,\"#46039f\"],[0.2222222222222222,\"#7201a8\"],[0.3333333333333333,\"#9c179e\"],[0.4444444444444444,\"#bd3786\"],[0.5555555555555556,\"#d8576b\"],[0.6666666666666666,\"#ed7953\"],[0.7777777777777778,\"#fb9f3a\"],[0.8888888888888888,\"#fdca26\"],[1.0,\"#f0f921\"]],\"sequentialminus\":[[0.0,\"#0d0887\"],[0.1111111111111111,\"#46039f\"],[0.2222222222222222,\"#7201a8\"],[0.3333333333333333,\"#9c179e\"],[0.4444444444444444,\"#bd3786\"],[0.5555555555555556,\"#d8576b\"],[0.6666666666666666,\"#ed7953\"],[0.7777777777777778,\"#fb9f3a\"],[0.8888888888888888,\"#fdca26\"],[1.0,\"#f0f921\"]],\"diverging\":[[0,\"#8e0152\"],[0.1,\"#c51b7d\"],[0.2,\"#de77ae\"],[0.3,\"#f1b6da\"],[0.4,\"#fde0ef\"],[0.5,\"#f7f7f7\"],[0.6,\"#e6f5d0\"],[0.7,\"#b8e186\"],[0.8,\"#7fbc41\"],[0.9,\"#4d9221\"],[1,\"#276419\"]]},\"xaxis\":{\"gridcolor\":\"white\",\"linecolor\":\"white\",\"ticks\":\"\",\"title\":{\"standoff\":15},\"zerolinecolor\":\"white\",\"automargin\":true,\"zerolinewidth\":2},\"yaxis\":{\"gridcolor\":\"white\",\"linecolor\":\"white\",\"ticks\":\"\",\"title\":{\"standoff\":15},\"zerolinecolor\":\"white\",\"automargin\":true,\"zerolinewidth\":2},\"scene\":{\"xaxis\":{\"backgroundcolor\":\"#E5ECF6\",\"gridcolor\":\"white\",\"linecolor\":\"white\",\"showbackground\":true,\"ticks\":\"\",\"zerolinecolor\":\"white\",\"gridwidth\":2},\"yaxis\":{\"backgroundcolor\":\"#E5ECF6\",\"gridcolor\":\"white\",\"linecolor\":\"white\",\"showbackground\":true,\"ticks\":\"\",\"zerolinecolor\":\"white\",\"gridwidth\":2},\"zaxis\":{\"backgroundcolor\":\"#E5ECF6\",\"gridcolor\":\"white\",\"linecolor\":\"white\",\"showbackground\":true,\"ticks\":\"\",\"zerolinecolor\":\"white\",\"gridwidth\":2}},\"shapedefaults\":{\"line\":{\"color\":\"#2a3f5f\"}},\"annotationdefaults\":{\"arrowcolor\":\"#2a3f5f\",\"arrowhead\":0,\"arrowwidth\":1},\"geo\":{\"bgcolor\":\"white\",\"landcolor\":\"#E5ECF6\",\"subunitcolor\":\"white\",\"showland\":true,\"showlakes\":true,\"lakecolor\":\"white\"},\"title\":{\"x\":0.05},\"mapbox\":{\"style\":\"light\"}}},\"xaxis\":{\"anchor\":\"y\",\"domain\":[0.0,1.0],\"title\":{},\"categoryorder\":\"array\",\"categoryarray\":[\"Jan\",\"Feb\",\"Mar\",\"Apr\",\"May\",\"Jun\",\"Jul\",\"Aug\",\"Sep\",\"Oct\",\"Nov\",\"Dec\"],\"ticks\":\"outside\",\"ticklen\":5,\"tickcolor\":\"#adb5bd\",\"linecolor\":\"#adb5bd\",\"color\":\"#2f3061\",\"showgrid\":false},\"yaxis\":{\"anchor\":\"free\",\"domain\":[0.0,1.0],\"title\":{},\"categoryorder\":\"array\",\"categoryarray\":[\"ATP250\",\"ATP500\",\"Masters 1000\",\"Grand Slam\"],\"shift\":-10,\"gridcolor\":\"#e9ecef\",\"color\":\"#2f3061\"},\"legend\":{\"tracegroupgap\":0},\"margin\":{\"t\":100},\"font\":{\"family\":\"Outfit\",\"size\":13},\"title\":{\"font\":{\"color\":\"#2f3061\"}},\"plot_bgcolor\":\"#f8f9fa\",\"annotations\":[{\"align\":\"left\",\"font\":{\"color\":\"#2f3061\",\"size\":18},\"showarrow\":false,\"text\":\"Professional tennis players participate in tournaments following a zigzag pattern\",\"x\":0,\"xref\":\"paper\",\"y\":1.2,\"yref\":\"paper\"},{\"align\":\"left\",\"font\":{\"color\":\"#2f3061\"},\"showarrow\":false,\"text\":\"In 2022 Holger Rune switched 6 times between the most important Grand Slam tournaments and the lowest tier ATP 250\",\"x\":0,\"xref\":\"paper\",\"y\":1.1,\"yref\":\"paper\"}]},                        {\"responsive\": true}                    ).then(function(){\n",
       "                            \n",
       "var gd = document.getElementById('791ee0b7-f902-4e61-956a-772776cfab63');\n",
       "var x = new MutationObserver(function (mutations, observer) {{\n",
       "        var display = window.getComputedStyle(gd).display;\n",
       "        if (!display || display === 'none') {{\n",
       "            console.log([gd, 'removed!']);\n",
       "            Plotly.purge(gd);\n",
       "            observer.disconnect();\n",
       "        }}\n",
       "}});\n",
       "\n",
       "// Listen for the removal of the full notebook cells\n",
       "var notebookContainer = gd.closest('#notebook-container');\n",
       "if (notebookContainer) {{\n",
       "    x.observe(notebookContainer, {childList: true});\n",
       "}}\n",
       "\n",
       "// Listen for the clearing of the current output cell\n",
       "var outputEl = gd.closest('.output');\n",
       "if (outputEl) {{\n",
       "    x.observe(outputEl, {childList: true});\n",
       "}}\n",
       "\n",
       "                        })                };                });            </script>        </div>"
      ]
     },
     "metadata": {},
     "output_type": "display_data"
    }
   ],
   "source": [
    "player_stats('Rune H.')"
   ]
  },
  {
   "cell_type": "code",
   "execution_count": null,
   "id": "79d25c92",
   "metadata": {},
   "outputs": [],
   "source": []
  }
 ],
 "metadata": {
  "kernelspec": {
   "display_name": "Python 3 (ipykernel)",
   "language": "python",
   "name": "python3"
  },
  "language_info": {
   "codemirror_mode": {
    "name": "ipython",
    "version": 3
   },
   "file_extension": ".py",
   "mimetype": "text/x-python",
   "name": "python",
   "nbconvert_exporter": "python",
   "pygments_lexer": "ipython3",
   "version": "3.10.9"
  }
 },
 "nbformat": 4,
 "nbformat_minor": 5
}
